{
 "cells": [
  {
   "cell_type": "markdown",
   "id": "82c38bec",
   "metadata": {},
   "source": [
    "# Hotel Booking Cancellation Prediction"
   ]
  },
  {
   "cell_type": "markdown",
   "id": "98fecc77",
   "metadata": {},
   "source": [
    "### Introduction:\n",
    "\n",
    "In recent years, City Hotel and Resort Hotel have seen high cancellation rates. Each hotel is now dealing with a number of issues as a result, including fewer revenues and less than ideal hotel room use. Consequently, lowering cancellation rates is both hotel's primary goal in order to increase their efficiency in generating revenue, and for us to offer through business advice to address this problem."
   ]
  },
  {
   "cell_type": "markdown",
   "id": "12d6d2be",
   "metadata": {},
   "source": [
    "### Problem Statement:\n",
    "\n",
    "The problem at hand is to develop a machine learning model that can predict whether a hotel booking will be canceled or not. This prediction is valuable for hotel management to better manage their operations, allocate resources efficiently, and plan for potential cancellations.\n",
    "\n"
   ]
  },
  {
   "cell_type": "markdown",
   "id": "cc24d4c8",
   "metadata": {},
   "source": [
    "### Process:\n",
    "\n",
    "By analyzing historical booking data, including various features such as arrival date, lead time, number of guests, booking changes, and more, we aim to build a model that can accurately classify bookings as either canceled or not canceled. This will enable hotel management to proactively address potential cancellations and optimize their revenue and occupancy rates.\n",
    "\n",
    "The dataset for this problem contains information about hotel bookings, including both canceled and non-canceled bookings. By applying exploratory data analysis (EDA) techniques and feature engineering, we can gain insights into the dataset, understand the relationships between variables, and identify the most influential factors affecting booking cancellations.\n",
    "\n",
    "After preprocessing the data, including handling missing values, encoding categorical variables, and splitting the dataset into training and testing sets, we will select a suitable machine learning algorithm, such as Random Forest, to train a predictive model. The model will be evaluated using appropriate metrics, such as accuracy, precision, recall, and F1 score.\n",
    "\n",
    "Once the model is trained and evaluated, it can be used to predict the likelihood of cancellation for new hotel bookings. By inputting relevant information about a new booking into the model, hotel management can quickly assess the risk of cancellation and make informed decisions regarding resource allocation and customer service.\n",
    "\n",
    "In summary, the goal is to develop a machine learning model that can accurately predict hotel booking cancellations, enabling hotel management to optimize their operations, improve customer satisfaction, and maximize revenue."
   ]
  },
  {
   "cell_type": "markdown",
   "id": "8a502e64",
   "metadata": {},
   "source": [
    "### Hypothesis:\n",
    "\n",
    "1. Price has any influence on cancellation rates\n",
    "2. Lead time affects the likelihood of cancellation.\n",
    "3. The type of hotel (resort hotel or city hotel) influences cancellation rates.\n",
    "4. Customers with previous cancellations are more likely to cancel their bookings again.\n",
    "5. Booking cancellations vary by arrival month.\n",
    "6. The deposit type impacts cancellation behavior."
   ]
  },
  {
   "cell_type": "markdown",
   "id": "4bb56ca2",
   "metadata": {},
   "source": [
    "### Importing libraries:"
   ]
  },
  {
   "cell_type": "code",
   "execution_count": 97,
   "id": "d052bee3",
   "metadata": {},
   "outputs": [],
   "source": [
    "import numpy as np\n",
    "import pandas as pd\n",
    "import matplotlib.pyplot as plt\n",
    "import matplotlib.dates as mdates\n",
    "import seaborn as sns\n",
    "import scipy.stats as stats\n",
    "from scipy.stats import chi2_contingency\n",
    "\n",
    "from sklearn.model_selection import train_test_split\n",
    "from sklearn.preprocessing import LabelEncoder\n",
    "from sklearn.ensemble import RandomForestClassifier\n",
    "from sklearn.metrics import accuracy_score, confusion_matrix\n",
    "from sklearn.linear_model import LogisticRegression\n",
    "import warnings\n",
    "warnings.filterwarnings('ignore')"
   ]
  },
  {
   "cell_type": "markdown",
   "id": "afedee26",
   "metadata": {},
   "source": [
    "### Loading the dataset: "
   ]
  },
  {
   "cell_type": "code",
   "execution_count": 2,
   "id": "eb42bacb",
   "metadata": {},
   "outputs": [],
   "source": [
    "df = pd.read_csv('C:\\\\Users\\Administrator\\Downloads\\Datasets\\hotel_booking.csv')"
   ]
  },
  {
   "cell_type": "markdown",
   "id": "0c302384",
   "metadata": {},
   "source": [
    "### Exploratory Data Analysis and Data Cleaning:"
   ]
  },
  {
   "cell_type": "code",
   "execution_count": 3,
   "id": "76c9e760",
   "metadata": {
    "scrolled": false
   },
   "outputs": [
    {
     "data": {
      "text/html": [
       "<div>\n",
       "<style scoped>\n",
       "    .dataframe tbody tr th:only-of-type {\n",
       "        vertical-align: middle;\n",
       "    }\n",
       "\n",
       "    .dataframe tbody tr th {\n",
       "        vertical-align: top;\n",
       "    }\n",
       "\n",
       "    .dataframe thead th {\n",
       "        text-align: right;\n",
       "    }\n",
       "</style>\n",
       "<table border=\"1\" class=\"dataframe\">\n",
       "  <thead>\n",
       "    <tr style=\"text-align: right;\">\n",
       "      <th></th>\n",
       "      <th>hotel</th>\n",
       "      <th>is_canceled</th>\n",
       "      <th>lead_time</th>\n",
       "      <th>arrival_date_year</th>\n",
       "      <th>arrival_date_month</th>\n",
       "      <th>arrival_date_week_number</th>\n",
       "      <th>arrival_date_day_of_month</th>\n",
       "      <th>stays_in_weekend_nights</th>\n",
       "      <th>stays_in_week_nights</th>\n",
       "      <th>adults</th>\n",
       "      <th>...</th>\n",
       "      <th>customer_type</th>\n",
       "      <th>adr</th>\n",
       "      <th>required_car_parking_spaces</th>\n",
       "      <th>total_of_special_requests</th>\n",
       "      <th>reservation_status</th>\n",
       "      <th>reservation_status_date</th>\n",
       "      <th>name</th>\n",
       "      <th>email</th>\n",
       "      <th>phone-number</th>\n",
       "      <th>credit_card</th>\n",
       "    </tr>\n",
       "  </thead>\n",
       "  <tbody>\n",
       "    <tr>\n",
       "      <th>0</th>\n",
       "      <td>Resort Hotel</td>\n",
       "      <td>0</td>\n",
       "      <td>342</td>\n",
       "      <td>2015</td>\n",
       "      <td>July</td>\n",
       "      <td>27</td>\n",
       "      <td>1</td>\n",
       "      <td>0</td>\n",
       "      <td>0</td>\n",
       "      <td>2</td>\n",
       "      <td>...</td>\n",
       "      <td>Transient</td>\n",
       "      <td>0.0</td>\n",
       "      <td>0</td>\n",
       "      <td>0</td>\n",
       "      <td>Check-Out</td>\n",
       "      <td>2015-07-01</td>\n",
       "      <td>Ernest Barnes</td>\n",
       "      <td>Ernest.Barnes31@outlook.com</td>\n",
       "      <td>669-792-1661</td>\n",
       "      <td>************4322</td>\n",
       "    </tr>\n",
       "    <tr>\n",
       "      <th>1</th>\n",
       "      <td>Resort Hotel</td>\n",
       "      <td>0</td>\n",
       "      <td>737</td>\n",
       "      <td>2015</td>\n",
       "      <td>July</td>\n",
       "      <td>27</td>\n",
       "      <td>1</td>\n",
       "      <td>0</td>\n",
       "      <td>0</td>\n",
       "      <td>2</td>\n",
       "      <td>...</td>\n",
       "      <td>Transient</td>\n",
       "      <td>0.0</td>\n",
       "      <td>0</td>\n",
       "      <td>0</td>\n",
       "      <td>Check-Out</td>\n",
       "      <td>2015-07-01</td>\n",
       "      <td>Andrea Baker</td>\n",
       "      <td>Andrea_Baker94@aol.com</td>\n",
       "      <td>858-637-6955</td>\n",
       "      <td>************9157</td>\n",
       "    </tr>\n",
       "    <tr>\n",
       "      <th>2</th>\n",
       "      <td>Resort Hotel</td>\n",
       "      <td>0</td>\n",
       "      <td>7</td>\n",
       "      <td>2015</td>\n",
       "      <td>July</td>\n",
       "      <td>27</td>\n",
       "      <td>1</td>\n",
       "      <td>0</td>\n",
       "      <td>1</td>\n",
       "      <td>1</td>\n",
       "      <td>...</td>\n",
       "      <td>Transient</td>\n",
       "      <td>75.0</td>\n",
       "      <td>0</td>\n",
       "      <td>0</td>\n",
       "      <td>Check-Out</td>\n",
       "      <td>2015-07-02</td>\n",
       "      <td>Rebecca Parker</td>\n",
       "      <td>Rebecca_Parker@comcast.net</td>\n",
       "      <td>652-885-2745</td>\n",
       "      <td>************3734</td>\n",
       "    </tr>\n",
       "    <tr>\n",
       "      <th>3</th>\n",
       "      <td>Resort Hotel</td>\n",
       "      <td>0</td>\n",
       "      <td>13</td>\n",
       "      <td>2015</td>\n",
       "      <td>July</td>\n",
       "      <td>27</td>\n",
       "      <td>1</td>\n",
       "      <td>0</td>\n",
       "      <td>1</td>\n",
       "      <td>1</td>\n",
       "      <td>...</td>\n",
       "      <td>Transient</td>\n",
       "      <td>75.0</td>\n",
       "      <td>0</td>\n",
       "      <td>0</td>\n",
       "      <td>Check-Out</td>\n",
       "      <td>2015-07-02</td>\n",
       "      <td>Laura Murray</td>\n",
       "      <td>Laura_M@gmail.com</td>\n",
       "      <td>364-656-8427</td>\n",
       "      <td>************5677</td>\n",
       "    </tr>\n",
       "    <tr>\n",
       "      <th>4</th>\n",
       "      <td>Resort Hotel</td>\n",
       "      <td>0</td>\n",
       "      <td>14</td>\n",
       "      <td>2015</td>\n",
       "      <td>July</td>\n",
       "      <td>27</td>\n",
       "      <td>1</td>\n",
       "      <td>0</td>\n",
       "      <td>2</td>\n",
       "      <td>2</td>\n",
       "      <td>...</td>\n",
       "      <td>Transient</td>\n",
       "      <td>98.0</td>\n",
       "      <td>0</td>\n",
       "      <td>1</td>\n",
       "      <td>Check-Out</td>\n",
       "      <td>2015-07-03</td>\n",
       "      <td>Linda Hines</td>\n",
       "      <td>LHines@verizon.com</td>\n",
       "      <td>713-226-5883</td>\n",
       "      <td>************5498</td>\n",
       "    </tr>\n",
       "  </tbody>\n",
       "</table>\n",
       "<p>5 rows × 36 columns</p>\n",
       "</div>"
      ],
      "text/plain": [
       "          hotel  is_canceled  lead_time  arrival_date_year arrival_date_month  \\\n",
       "0  Resort Hotel            0        342               2015               July   \n",
       "1  Resort Hotel            0        737               2015               July   \n",
       "2  Resort Hotel            0          7               2015               July   \n",
       "3  Resort Hotel            0         13               2015               July   \n",
       "4  Resort Hotel            0         14               2015               July   \n",
       "\n",
       "   arrival_date_week_number  arrival_date_day_of_month  \\\n",
       "0                        27                          1   \n",
       "1                        27                          1   \n",
       "2                        27                          1   \n",
       "3                        27                          1   \n",
       "4                        27                          1   \n",
       "\n",
       "   stays_in_weekend_nights  stays_in_week_nights  adults  ...  customer_type  \\\n",
       "0                        0                     0       2  ...      Transient   \n",
       "1                        0                     0       2  ...      Transient   \n",
       "2                        0                     1       1  ...      Transient   \n",
       "3                        0                     1       1  ...      Transient   \n",
       "4                        0                     2       2  ...      Transient   \n",
       "\n",
       "    adr required_car_parking_spaces total_of_special_requests  \\\n",
       "0   0.0                           0                         0   \n",
       "1   0.0                           0                         0   \n",
       "2  75.0                           0                         0   \n",
       "3  75.0                           0                         0   \n",
       "4  98.0                           0                         1   \n",
       "\n",
       "  reservation_status reservation_status_date            name  \\\n",
       "0          Check-Out              2015-07-01   Ernest Barnes   \n",
       "1          Check-Out              2015-07-01    Andrea Baker   \n",
       "2          Check-Out              2015-07-02  Rebecca Parker   \n",
       "3          Check-Out              2015-07-02    Laura Murray   \n",
       "4          Check-Out              2015-07-03     Linda Hines   \n",
       "\n",
       "                         email  phone-number       credit_card  \n",
       "0  Ernest.Barnes31@outlook.com  669-792-1661  ************4322  \n",
       "1       Andrea_Baker94@aol.com  858-637-6955  ************9157  \n",
       "2   Rebecca_Parker@comcast.net  652-885-2745  ************3734  \n",
       "3            Laura_M@gmail.com  364-656-8427  ************5677  \n",
       "4           LHines@verizon.com  713-226-5883  ************5498  \n",
       "\n",
       "[5 rows x 36 columns]"
      ]
     },
     "execution_count": 3,
     "metadata": {},
     "output_type": "execute_result"
    }
   ],
   "source": [
    "# Check first 5 rows of the dataset\n",
    "df.head()"
   ]
  },
  {
   "cell_type": "code",
   "execution_count": 4,
   "id": "4d495772",
   "metadata": {},
   "outputs": [
    {
     "data": {
      "text/plain": [
       "(119390, 36)"
      ]
     },
     "execution_count": 4,
     "metadata": {},
     "output_type": "execute_result"
    }
   ],
   "source": [
    "# Check the no. of rows & columns in the dataset\n",
    "df.shape"
   ]
  },
  {
   "cell_type": "code",
   "execution_count": 5,
   "id": "deb6689b",
   "metadata": {},
   "outputs": [
    {
     "data": {
      "text/html": [
       "<div>\n",
       "<style scoped>\n",
       "    .dataframe tbody tr th:only-of-type {\n",
       "        vertical-align: middle;\n",
       "    }\n",
       "\n",
       "    .dataframe tbody tr th {\n",
       "        vertical-align: top;\n",
       "    }\n",
       "\n",
       "    .dataframe thead th {\n",
       "        text-align: right;\n",
       "    }\n",
       "</style>\n",
       "<table border=\"1\" class=\"dataframe\">\n",
       "  <thead>\n",
       "    <tr style=\"text-align: right;\">\n",
       "      <th></th>\n",
       "      <th>hotel</th>\n",
       "      <th>is_canceled</th>\n",
       "      <th>lead_time</th>\n",
       "      <th>arrival_date_year</th>\n",
       "      <th>arrival_date_month</th>\n",
       "      <th>arrival_date_day_of_month</th>\n",
       "      <th>stays_in_weekend_nights</th>\n",
       "      <th>stays_in_week_nights</th>\n",
       "      <th>adults</th>\n",
       "      <th>children</th>\n",
       "      <th>...</th>\n",
       "      <th>deposit_type</th>\n",
       "      <th>agent</th>\n",
       "      <th>company</th>\n",
       "      <th>days_in_waiting_list</th>\n",
       "      <th>customer_type</th>\n",
       "      <th>adr</th>\n",
       "      <th>required_car_parking_spaces</th>\n",
       "      <th>total_of_special_requests</th>\n",
       "      <th>reservation_status</th>\n",
       "      <th>reservation_status_date</th>\n",
       "    </tr>\n",
       "  </thead>\n",
       "  <tbody>\n",
       "    <tr>\n",
       "      <th>0</th>\n",
       "      <td>Resort Hotel</td>\n",
       "      <td>0</td>\n",
       "      <td>342</td>\n",
       "      <td>2015</td>\n",
       "      <td>July</td>\n",
       "      <td>1</td>\n",
       "      <td>0</td>\n",
       "      <td>0</td>\n",
       "      <td>2</td>\n",
       "      <td>0.0</td>\n",
       "      <td>...</td>\n",
       "      <td>No Deposit</td>\n",
       "      <td>NaN</td>\n",
       "      <td>NaN</td>\n",
       "      <td>0</td>\n",
       "      <td>Transient</td>\n",
       "      <td>0.0</td>\n",
       "      <td>0</td>\n",
       "      <td>0</td>\n",
       "      <td>Check-Out</td>\n",
       "      <td>2015-07-01</td>\n",
       "    </tr>\n",
       "    <tr>\n",
       "      <th>1</th>\n",
       "      <td>Resort Hotel</td>\n",
       "      <td>0</td>\n",
       "      <td>737</td>\n",
       "      <td>2015</td>\n",
       "      <td>July</td>\n",
       "      <td>1</td>\n",
       "      <td>0</td>\n",
       "      <td>0</td>\n",
       "      <td>2</td>\n",
       "      <td>0.0</td>\n",
       "      <td>...</td>\n",
       "      <td>No Deposit</td>\n",
       "      <td>NaN</td>\n",
       "      <td>NaN</td>\n",
       "      <td>0</td>\n",
       "      <td>Transient</td>\n",
       "      <td>0.0</td>\n",
       "      <td>0</td>\n",
       "      <td>0</td>\n",
       "      <td>Check-Out</td>\n",
       "      <td>2015-07-01</td>\n",
       "    </tr>\n",
       "    <tr>\n",
       "      <th>2</th>\n",
       "      <td>Resort Hotel</td>\n",
       "      <td>0</td>\n",
       "      <td>7</td>\n",
       "      <td>2015</td>\n",
       "      <td>July</td>\n",
       "      <td>1</td>\n",
       "      <td>0</td>\n",
       "      <td>1</td>\n",
       "      <td>1</td>\n",
       "      <td>0.0</td>\n",
       "      <td>...</td>\n",
       "      <td>No Deposit</td>\n",
       "      <td>NaN</td>\n",
       "      <td>NaN</td>\n",
       "      <td>0</td>\n",
       "      <td>Transient</td>\n",
       "      <td>75.0</td>\n",
       "      <td>0</td>\n",
       "      <td>0</td>\n",
       "      <td>Check-Out</td>\n",
       "      <td>2015-07-02</td>\n",
       "    </tr>\n",
       "    <tr>\n",
       "      <th>3</th>\n",
       "      <td>Resort Hotel</td>\n",
       "      <td>0</td>\n",
       "      <td>13</td>\n",
       "      <td>2015</td>\n",
       "      <td>July</td>\n",
       "      <td>1</td>\n",
       "      <td>0</td>\n",
       "      <td>1</td>\n",
       "      <td>1</td>\n",
       "      <td>0.0</td>\n",
       "      <td>...</td>\n",
       "      <td>No Deposit</td>\n",
       "      <td>304.0</td>\n",
       "      <td>NaN</td>\n",
       "      <td>0</td>\n",
       "      <td>Transient</td>\n",
       "      <td>75.0</td>\n",
       "      <td>0</td>\n",
       "      <td>0</td>\n",
       "      <td>Check-Out</td>\n",
       "      <td>2015-07-02</td>\n",
       "    </tr>\n",
       "    <tr>\n",
       "      <th>4</th>\n",
       "      <td>Resort Hotel</td>\n",
       "      <td>0</td>\n",
       "      <td>14</td>\n",
       "      <td>2015</td>\n",
       "      <td>July</td>\n",
       "      <td>1</td>\n",
       "      <td>0</td>\n",
       "      <td>2</td>\n",
       "      <td>2</td>\n",
       "      <td>0.0</td>\n",
       "      <td>...</td>\n",
       "      <td>No Deposit</td>\n",
       "      <td>240.0</td>\n",
       "      <td>NaN</td>\n",
       "      <td>0</td>\n",
       "      <td>Transient</td>\n",
       "      <td>98.0</td>\n",
       "      <td>0</td>\n",
       "      <td>1</td>\n",
       "      <td>Check-Out</td>\n",
       "      <td>2015-07-03</td>\n",
       "    </tr>\n",
       "  </tbody>\n",
       "</table>\n",
       "<p>5 rows × 31 columns</p>\n",
       "</div>"
      ],
      "text/plain": [
       "          hotel  is_canceled  lead_time  arrival_date_year arrival_date_month  \\\n",
       "0  Resort Hotel            0        342               2015               July   \n",
       "1  Resort Hotel            0        737               2015               July   \n",
       "2  Resort Hotel            0          7               2015               July   \n",
       "3  Resort Hotel            0         13               2015               July   \n",
       "4  Resort Hotel            0         14               2015               July   \n",
       "\n",
       "   arrival_date_day_of_month  stays_in_weekend_nights  stays_in_week_nights  \\\n",
       "0                          1                        0                     0   \n",
       "1                          1                        0                     0   \n",
       "2                          1                        0                     1   \n",
       "3                          1                        0                     1   \n",
       "4                          1                        0                     2   \n",
       "\n",
       "   adults  children  ...  deposit_type  agent company days_in_waiting_list  \\\n",
       "0       2       0.0  ...    No Deposit    NaN     NaN                    0   \n",
       "1       2       0.0  ...    No Deposit    NaN     NaN                    0   \n",
       "2       1       0.0  ...    No Deposit    NaN     NaN                    0   \n",
       "3       1       0.0  ...    No Deposit  304.0     NaN                    0   \n",
       "4       2       0.0  ...    No Deposit  240.0     NaN                    0   \n",
       "\n",
       "  customer_type   adr  required_car_parking_spaces  total_of_special_requests  \\\n",
       "0     Transient   0.0                            0                          0   \n",
       "1     Transient   0.0                            0                          0   \n",
       "2     Transient  75.0                            0                          0   \n",
       "3     Transient  75.0                            0                          0   \n",
       "4     Transient  98.0                            0                          1   \n",
       "\n",
       "  reservation_status reservation_status_date  \n",
       "0          Check-Out              2015-07-01  \n",
       "1          Check-Out              2015-07-01  \n",
       "2          Check-Out              2015-07-02  \n",
       "3          Check-Out              2015-07-02  \n",
       "4          Check-Out              2015-07-03  \n",
       "\n",
       "[5 rows x 31 columns]"
      ]
     },
     "execution_count": 5,
     "metadata": {},
     "output_type": "execute_result"
    }
   ],
   "source": [
    "# Remove the fields not useful for analysis\n",
    "df.drop(columns =['arrival_date_week_number', 'name', 'email', 'phone-number', 'credit_card'], inplace = True)\n",
    "df.head()"
   ]
  },
  {
   "cell_type": "code",
   "execution_count": 6,
   "id": "733218fe",
   "metadata": {},
   "outputs": [
    {
     "data": {
      "text/plain": [
       "Index(['hotel', 'is_canceled', 'lead_time', 'arrival_date_year',\n",
       "       'arrival_date_month', 'arrival_date_day_of_month',\n",
       "       'stays_in_weekend_nights', 'stays_in_week_nights', 'adults', 'children',\n",
       "       'babies', 'meal', 'country', 'market_segment', 'distribution_channel',\n",
       "       'is_repeated_guest', 'previous_cancellations',\n",
       "       'previous_bookings_not_canceled', 'reserved_room_type',\n",
       "       'assigned_room_type', 'booking_changes', 'deposit_type', 'agent',\n",
       "       'company', 'days_in_waiting_list', 'customer_type', 'adr',\n",
       "       'required_car_parking_spaces', 'total_of_special_requests',\n",
       "       'reservation_status', 'reservation_status_date'],\n",
       "      dtype='object')"
      ]
     },
     "execution_count": 6,
     "metadata": {},
     "output_type": "execute_result"
    }
   ],
   "source": [
    "# Check all the column names of the dataset\n",
    "df.columns"
   ]
  },
  {
   "cell_type": "code",
   "execution_count": 7,
   "id": "8d433b28",
   "metadata": {},
   "outputs": [
    {
     "name": "stdout",
     "output_type": "stream",
     "text": [
      "<class 'pandas.core.frame.DataFrame'>\n",
      "RangeIndex: 119390 entries, 0 to 119389\n",
      "Data columns (total 31 columns):\n",
      " #   Column                          Non-Null Count   Dtype  \n",
      "---  ------                          --------------   -----  \n",
      " 0   hotel                           119390 non-null  object \n",
      " 1   is_canceled                     119390 non-null  int64  \n",
      " 2   lead_time                       119390 non-null  int64  \n",
      " 3   arrival_date_year               119390 non-null  int64  \n",
      " 4   arrival_date_month              119390 non-null  object \n",
      " 5   arrival_date_day_of_month       119390 non-null  int64  \n",
      " 6   stays_in_weekend_nights         119390 non-null  int64  \n",
      " 7   stays_in_week_nights            119390 non-null  int64  \n",
      " 8   adults                          119390 non-null  int64  \n",
      " 9   children                        119386 non-null  float64\n",
      " 10  babies                          119390 non-null  int64  \n",
      " 11  meal                            119390 non-null  object \n",
      " 12  country                         118902 non-null  object \n",
      " 13  market_segment                  119390 non-null  object \n",
      " 14  distribution_channel            119390 non-null  object \n",
      " 15  is_repeated_guest               119390 non-null  int64  \n",
      " 16  previous_cancellations          119390 non-null  int64  \n",
      " 17  previous_bookings_not_canceled  119390 non-null  int64  \n",
      " 18  reserved_room_type              119390 non-null  object \n",
      " 19  assigned_room_type              119390 non-null  object \n",
      " 20  booking_changes                 119390 non-null  int64  \n",
      " 21  deposit_type                    119390 non-null  object \n",
      " 22  agent                           103050 non-null  float64\n",
      " 23  company                         6797 non-null    float64\n",
      " 24  days_in_waiting_list            119390 non-null  int64  \n",
      " 25  customer_type                   119390 non-null  object \n",
      " 26  adr                             119390 non-null  float64\n",
      " 27  required_car_parking_spaces     119390 non-null  int64  \n",
      " 28  total_of_special_requests       119390 non-null  int64  \n",
      " 29  reservation_status              119390 non-null  object \n",
      " 30  reservation_status_date         119390 non-null  object \n",
      "dtypes: float64(4), int64(15), object(12)\n",
      "memory usage: 28.2+ MB\n"
     ]
    }
   ],
   "source": [
    "# Check the data types of each column\n",
    "df.info()"
   ]
  },
  {
   "cell_type": "code",
   "execution_count": 8,
   "id": "9b8a7279",
   "metadata": {},
   "outputs": [],
   "source": [
    "# Change reservation_status_date data type from 'object' to 'datetime'\n",
    "df['reservation_status_date'] = pd.to_datetime(df['reservation_status_date'])"
   ]
  },
  {
   "cell_type": "code",
   "execution_count": 9,
   "id": "4fb93c6e",
   "metadata": {},
   "outputs": [
    {
     "name": "stdout",
     "output_type": "stream",
     "text": [
      "Columns in dataset:  \n",
      " ['hotel', 'is_canceled', 'lead_time', 'arrival_date_year', 'arrival_date_month', 'arrival_date_day_of_month', 'stays_in_weekend_nights', 'stays_in_week_nights', 'adults', 'children', 'babies', 'meal', 'country', 'market_segment', 'distribution_channel', 'is_repeated_guest', 'previous_cancellations', 'previous_bookings_not_canceled', 'reserved_room_type', 'assigned_room_type', 'booking_changes', 'deposit_type', 'agent', 'company', 'days_in_waiting_list', 'customer_type', 'adr', 'required_car_parking_spaces', 'total_of_special_requests', 'reservation_status', 'reservation_status_date'] \n",
      "\n",
      "Categorical Columns in dataset:  \n",
      " ['hotel', 'arrival_date_month', 'meal', 'country', 'market_segment', 'distribution_channel', 'reserved_room_type', 'assigned_room_type', 'deposit_type', 'customer_type', 'reservation_status'] \n",
      "\n",
      "Numerical Columns in dataset:  \n",
      " ['is_canceled', 'lead_time', 'arrival_date_year', 'arrival_date_day_of_month', 'stays_in_weekend_nights', 'stays_in_week_nights', 'adults', 'children', 'babies', 'is_repeated_guest', 'previous_cancellations', 'previous_bookings_not_canceled', 'booking_changes', 'agent', 'company', 'days_in_waiting_list', 'adr', 'required_car_parking_spaces', 'total_of_special_requests'] \n",
      "\n",
      "Datetime Columns in dataset:  \n",
      " ['reservation_status_date']\n"
     ]
    }
   ],
   "source": [
    "# To see data types in the dataset\n",
    "print(\"Columns in dataset: \",\"\\n\", list(df.columns),\"\\n\")\n",
    "print(\"Categorical Columns in dataset: \",\"\\n\",list(df.select_dtypes(include=\"object\")),\"\\n\")\n",
    "print(\"Numerical Columns in dataset: \",\"\\n\",list(df.select_dtypes(include=[\"int64\", \"float64\"])),\"\\n\")\n",
    "print(\"Datetime Columns in dataset: \",\"\\n\",list(df.select_dtypes(include=\"datetime64\")))"
   ]
  },
  {
   "cell_type": "code",
   "execution_count": 10,
   "id": "421facb0",
   "metadata": {},
   "outputs": [
    {
     "data": {
      "text/html": [
       "<div>\n",
       "<style scoped>\n",
       "    .dataframe tbody tr th:only-of-type {\n",
       "        vertical-align: middle;\n",
       "    }\n",
       "\n",
       "    .dataframe tbody tr th {\n",
       "        vertical-align: top;\n",
       "    }\n",
       "\n",
       "    .dataframe thead th {\n",
       "        text-align: right;\n",
       "    }\n",
       "</style>\n",
       "<table border=\"1\" class=\"dataframe\">\n",
       "  <thead>\n",
       "    <tr style=\"text-align: right;\">\n",
       "      <th></th>\n",
       "      <th>hotel</th>\n",
       "      <th>arrival_date_month</th>\n",
       "      <th>meal</th>\n",
       "      <th>country</th>\n",
       "      <th>market_segment</th>\n",
       "      <th>distribution_channel</th>\n",
       "      <th>reserved_room_type</th>\n",
       "      <th>assigned_room_type</th>\n",
       "      <th>deposit_type</th>\n",
       "      <th>customer_type</th>\n",
       "      <th>reservation_status</th>\n",
       "    </tr>\n",
       "  </thead>\n",
       "  <tbody>\n",
       "    <tr>\n",
       "      <th>count</th>\n",
       "      <td>119390</td>\n",
       "      <td>119390</td>\n",
       "      <td>119390</td>\n",
       "      <td>118902</td>\n",
       "      <td>119390</td>\n",
       "      <td>119390</td>\n",
       "      <td>119390</td>\n",
       "      <td>119390</td>\n",
       "      <td>119390</td>\n",
       "      <td>119390</td>\n",
       "      <td>119390</td>\n",
       "    </tr>\n",
       "    <tr>\n",
       "      <th>unique</th>\n",
       "      <td>2</td>\n",
       "      <td>12</td>\n",
       "      <td>5</td>\n",
       "      <td>177</td>\n",
       "      <td>8</td>\n",
       "      <td>5</td>\n",
       "      <td>10</td>\n",
       "      <td>12</td>\n",
       "      <td>3</td>\n",
       "      <td>4</td>\n",
       "      <td>3</td>\n",
       "    </tr>\n",
       "    <tr>\n",
       "      <th>top</th>\n",
       "      <td>City Hotel</td>\n",
       "      <td>August</td>\n",
       "      <td>BB</td>\n",
       "      <td>PRT</td>\n",
       "      <td>Online TA</td>\n",
       "      <td>TA/TO</td>\n",
       "      <td>A</td>\n",
       "      <td>A</td>\n",
       "      <td>No Deposit</td>\n",
       "      <td>Transient</td>\n",
       "      <td>Check-Out</td>\n",
       "    </tr>\n",
       "    <tr>\n",
       "      <th>freq</th>\n",
       "      <td>79330</td>\n",
       "      <td>13877</td>\n",
       "      <td>92310</td>\n",
       "      <td>48590</td>\n",
       "      <td>56477</td>\n",
       "      <td>97870</td>\n",
       "      <td>85994</td>\n",
       "      <td>74053</td>\n",
       "      <td>104641</td>\n",
       "      <td>89613</td>\n",
       "      <td>75166</td>\n",
       "    </tr>\n",
       "  </tbody>\n",
       "</table>\n",
       "</div>"
      ],
      "text/plain": [
       "             hotel arrival_date_month    meal country market_segment  \\\n",
       "count       119390             119390  119390  118902         119390   \n",
       "unique           2                 12       5     177              8   \n",
       "top     City Hotel             August      BB     PRT      Online TA   \n",
       "freq         79330              13877   92310   48590          56477   \n",
       "\n",
       "       distribution_channel reserved_room_type assigned_room_type  \\\n",
       "count                119390             119390             119390   \n",
       "unique                    5                 10                 12   \n",
       "top                   TA/TO                  A                  A   \n",
       "freq                  97870              85994              74053   \n",
       "\n",
       "       deposit_type customer_type reservation_status  \n",
       "count        119390        119390             119390  \n",
       "unique            3             4                  3  \n",
       "top      No Deposit     Transient          Check-Out  \n",
       "freq         104641         89613              75166  "
      ]
     },
     "execution_count": 10,
     "metadata": {},
     "output_type": "execute_result"
    }
   ],
   "source": [
    "# Summary status for columns with 'object' data type\n",
    "df.describe(include = 'object')"
   ]
  },
  {
   "cell_type": "code",
   "execution_count": 11,
   "id": "7f985e28",
   "metadata": {},
   "outputs": [
    {
     "name": "stdout",
     "output_type": "stream",
     "text": [
      "hotel\n",
      "['Resort Hotel' 'City Hotel']\n",
      "--------------------------------------------------------------------------------\n",
      "arrival_date_month\n",
      "['July' 'August' 'September' 'October' 'November' 'December' 'January'\n",
      " 'February' 'March' 'April' 'May' 'June']\n",
      "--------------------------------------------------------------------------------\n",
      "meal\n",
      "['BB' 'FB' 'HB' 'SC' 'Undefined']\n",
      "--------------------------------------------------------------------------------\n",
      "country\n",
      "['PRT' 'GBR' 'USA' 'ESP' 'IRL' 'FRA' nan 'ROU' 'NOR' 'OMN' 'ARG' 'POL'\n",
      " 'DEU' 'BEL' 'CHE' 'CN' 'GRC' 'ITA' 'NLD' 'DNK' 'RUS' 'SWE' 'AUS' 'EST'\n",
      " 'CZE' 'BRA' 'FIN' 'MOZ' 'BWA' 'LUX' 'SVN' 'ALB' 'IND' 'CHN' 'MEX' 'MAR'\n",
      " 'UKR' 'SMR' 'LVA' 'PRI' 'SRB' 'CHL' 'AUT' 'BLR' 'LTU' 'TUR' 'ZAF' 'AGO'\n",
      " 'ISR' 'CYM' 'ZMB' 'CPV' 'ZWE' 'DZA' 'KOR' 'CRI' 'HUN' 'ARE' 'TUN' 'JAM'\n",
      " 'HRV' 'HKG' 'IRN' 'GEO' 'AND' 'GIB' 'URY' 'JEY' 'CAF' 'CYP' 'COL' 'GGY'\n",
      " 'KWT' 'NGA' 'MDV' 'VEN' 'SVK' 'FJI' 'KAZ' 'PAK' 'IDN' 'LBN' 'PHL' 'SEN'\n",
      " 'SYC' 'AZE' 'BHR' 'NZL' 'THA' 'DOM' 'MKD' 'MYS' 'ARM' 'JPN' 'LKA' 'CUB'\n",
      " 'CMR' 'BIH' 'MUS' 'COM' 'SUR' 'UGA' 'BGR' 'CIV' 'JOR' 'SYR' 'SGP' 'BDI'\n",
      " 'SAU' 'VNM' 'PLW' 'QAT' 'EGY' 'PER' 'MLT' 'MWI' 'ECU' 'MDG' 'ISL' 'UZB'\n",
      " 'NPL' 'BHS' 'MAC' 'TGO' 'TWN' 'DJI' 'STP' 'KNA' 'ETH' 'IRQ' 'HND' 'RWA'\n",
      " 'KHM' 'MCO' 'BGD' 'IMN' 'TJK' 'NIC' 'BEN' 'VGB' 'TZA' 'GAB' 'GHA' 'TMP'\n",
      " 'GLP' 'KEN' 'LIE' 'GNB' 'MNE' 'UMI' 'MYT' 'FRO' 'MMR' 'PAN' 'BFA' 'LBY'\n",
      " 'MLI' 'NAM' 'BOL' 'PRY' 'BRB' 'ABW' 'AIA' 'SLV' 'DMA' 'PYF' 'GUY' 'LCA'\n",
      " 'ATA' 'GTM' 'ASM' 'MRT' 'NCL' 'KIR' 'SDN' 'ATF' 'SLE' 'LAO']\n",
      "--------------------------------------------------------------------------------\n",
      "market_segment\n",
      "['Direct' 'Corporate' 'Online TA' 'Offline TA/TO' 'Complementary' 'Groups'\n",
      " 'Undefined' 'Aviation']\n",
      "--------------------------------------------------------------------------------\n",
      "distribution_channel\n",
      "['Direct' 'Corporate' 'TA/TO' 'Undefined' 'GDS']\n",
      "--------------------------------------------------------------------------------\n",
      "reserved_room_type\n",
      "['C' 'A' 'D' 'E' 'G' 'F' 'H' 'L' 'P' 'B']\n",
      "--------------------------------------------------------------------------------\n",
      "assigned_room_type\n",
      "['C' 'A' 'D' 'E' 'G' 'F' 'I' 'B' 'H' 'P' 'L' 'K']\n",
      "--------------------------------------------------------------------------------\n",
      "deposit_type\n",
      "['No Deposit' 'Refundable' 'Non Refund']\n",
      "--------------------------------------------------------------------------------\n",
      "customer_type\n",
      "['Transient' 'Contract' 'Transient-Party' 'Group']\n",
      "--------------------------------------------------------------------------------\n",
      "reservation_status\n",
      "['Check-Out' 'Canceled' 'No-Show']\n",
      "--------------------------------------------------------------------------------\n"
     ]
    }
   ],
   "source": [
    "# Get unique values for each column having 'object' data type\n",
    "for col in df.describe(include = 'object').columns:\n",
    "    print(col)\n",
    "    print(df[col].unique())\n",
    "    print('-'*80)"
   ]
  },
  {
   "cell_type": "code",
   "execution_count": 12,
   "id": "74b8fb81",
   "metadata": {},
   "outputs": [
    {
     "data": {
      "text/plain": [
       "hotel                                  0\n",
       "is_canceled                            0\n",
       "lead_time                              0\n",
       "arrival_date_year                      0\n",
       "arrival_date_month                     0\n",
       "arrival_date_day_of_month              0\n",
       "stays_in_weekend_nights                0\n",
       "stays_in_week_nights                   0\n",
       "adults                                 0\n",
       "children                               4\n",
       "babies                                 0\n",
       "meal                                   0\n",
       "country                              488\n",
       "market_segment                         0\n",
       "distribution_channel                   0\n",
       "is_repeated_guest                      0\n",
       "previous_cancellations                 0\n",
       "previous_bookings_not_canceled         0\n",
       "reserved_room_type                     0\n",
       "assigned_room_type                     0\n",
       "booking_changes                        0\n",
       "deposit_type                           0\n",
       "agent                              16340\n",
       "company                           112593\n",
       "days_in_waiting_list                   0\n",
       "customer_type                          0\n",
       "adr                                    0\n",
       "required_car_parking_spaces            0\n",
       "total_of_special_requests              0\n",
       "reservation_status                     0\n",
       "reservation_status_date                0\n",
       "dtype: int64"
      ]
     },
     "execution_count": 12,
     "metadata": {},
     "output_type": "execute_result"
    }
   ],
   "source": [
    "# Check for missing values\n",
    "df.isnull().sum()"
   ]
  },
  {
   "cell_type": "code",
   "execution_count": 13,
   "id": "8b856022",
   "metadata": {},
   "outputs": [
    {
     "data": {
      "text/plain": [
       "company                           94.306893\n",
       "agent                             13.686238\n",
       "country                            0.408744\n",
       "children                           0.003350\n",
       "hotel                              0.000000\n",
       "previous_bookings_not_canceled     0.000000\n",
       "reservation_status                 0.000000\n",
       "total_of_special_requests          0.000000\n",
       "required_car_parking_spaces        0.000000\n",
       "adr                                0.000000\n",
       "customer_type                      0.000000\n",
       "days_in_waiting_list               0.000000\n",
       "deposit_type                       0.000000\n",
       "booking_changes                    0.000000\n",
       "assigned_room_type                 0.000000\n",
       "reserved_room_type                 0.000000\n",
       "is_repeated_guest                  0.000000\n",
       "previous_cancellations             0.000000\n",
       "is_canceled                        0.000000\n",
       "distribution_channel               0.000000\n",
       "market_segment                     0.000000\n",
       "meal                               0.000000\n",
       "babies                             0.000000\n",
       "adults                             0.000000\n",
       "stays_in_week_nights               0.000000\n",
       "stays_in_weekend_nights            0.000000\n",
       "arrival_date_day_of_month          0.000000\n",
       "arrival_date_month                 0.000000\n",
       "arrival_date_year                  0.000000\n",
       "lead_time                          0.000000\n",
       "reservation_status_date            0.000000\n",
       "dtype: float64"
      ]
     },
     "execution_count": 13,
     "metadata": {},
     "output_type": "execute_result"
    }
   ],
   "source": [
    "# missing values in percentage sorted in descending order\n",
    "percent_missing = df.isnull().sum() * 100 / len(df)\n",
    "percent_missing.sort_values(ascending = False)"
   ]
  },
  {
   "cell_type": "code",
   "execution_count": 14,
   "id": "63a9d9dc",
   "metadata": {},
   "outputs": [],
   "source": [
    "# Dropping the columns which has large number of missing values\n",
    "df.drop(['company', 'agent'], axis = 1, inplace = True)\n",
    "\n",
    "# Dropping the rows with small number of missing values\n",
    "df.dropna(inplace = True)"
   ]
  },
  {
   "cell_type": "code",
   "execution_count": 15,
   "id": "57454cb8",
   "metadata": {},
   "outputs": [
    {
     "data": {
      "text/html": [
       "<div>\n",
       "<style scoped>\n",
       "    .dataframe tbody tr th:only-of-type {\n",
       "        vertical-align: middle;\n",
       "    }\n",
       "\n",
       "    .dataframe tbody tr th {\n",
       "        vertical-align: top;\n",
       "    }\n",
       "\n",
       "    .dataframe thead th {\n",
       "        text-align: right;\n",
       "    }\n",
       "</style>\n",
       "<table border=\"1\" class=\"dataframe\">\n",
       "  <thead>\n",
       "    <tr style=\"text-align: right;\">\n",
       "      <th></th>\n",
       "      <th>is_canceled</th>\n",
       "      <th>lead_time</th>\n",
       "      <th>arrival_date_year</th>\n",
       "      <th>arrival_date_day_of_month</th>\n",
       "      <th>stays_in_weekend_nights</th>\n",
       "      <th>stays_in_week_nights</th>\n",
       "      <th>adults</th>\n",
       "      <th>children</th>\n",
       "      <th>babies</th>\n",
       "      <th>is_repeated_guest</th>\n",
       "      <th>previous_cancellations</th>\n",
       "      <th>previous_bookings_not_canceled</th>\n",
       "      <th>booking_changes</th>\n",
       "      <th>days_in_waiting_list</th>\n",
       "      <th>adr</th>\n",
       "      <th>required_car_parking_spaces</th>\n",
       "      <th>total_of_special_requests</th>\n",
       "    </tr>\n",
       "  </thead>\n",
       "  <tbody>\n",
       "    <tr>\n",
       "      <th>count</th>\n",
       "      <td>118898.000000</td>\n",
       "      <td>118898.000000</td>\n",
       "      <td>118898.000000</td>\n",
       "      <td>118898.000000</td>\n",
       "      <td>118898.000000</td>\n",
       "      <td>118898.000000</td>\n",
       "      <td>118898.000000</td>\n",
       "      <td>118898.000000</td>\n",
       "      <td>118898.000000</td>\n",
       "      <td>118898.000000</td>\n",
       "      <td>118898.000000</td>\n",
       "      <td>118898.000000</td>\n",
       "      <td>118898.000000</td>\n",
       "      <td>118898.000000</td>\n",
       "      <td>118898.000000</td>\n",
       "      <td>118898.000000</td>\n",
       "      <td>118898.000000</td>\n",
       "    </tr>\n",
       "    <tr>\n",
       "      <th>mean</th>\n",
       "      <td>0.371352</td>\n",
       "      <td>104.311435</td>\n",
       "      <td>2016.157656</td>\n",
       "      <td>15.800880</td>\n",
       "      <td>0.928897</td>\n",
       "      <td>2.502145</td>\n",
       "      <td>1.858391</td>\n",
       "      <td>0.104207</td>\n",
       "      <td>0.007948</td>\n",
       "      <td>0.032011</td>\n",
       "      <td>0.087142</td>\n",
       "      <td>0.131634</td>\n",
       "      <td>0.221181</td>\n",
       "      <td>2.330754</td>\n",
       "      <td>102.003243</td>\n",
       "      <td>0.061885</td>\n",
       "      <td>0.571683</td>\n",
       "    </tr>\n",
       "    <tr>\n",
       "      <th>std</th>\n",
       "      <td>0.483168</td>\n",
       "      <td>106.903309</td>\n",
       "      <td>0.707459</td>\n",
       "      <td>8.780324</td>\n",
       "      <td>0.996216</td>\n",
       "      <td>1.900168</td>\n",
       "      <td>0.578576</td>\n",
       "      <td>0.399172</td>\n",
       "      <td>0.097380</td>\n",
       "      <td>0.176029</td>\n",
       "      <td>0.845869</td>\n",
       "      <td>1.484672</td>\n",
       "      <td>0.652785</td>\n",
       "      <td>17.630452</td>\n",
       "      <td>50.485862</td>\n",
       "      <td>0.244172</td>\n",
       "      <td>0.792678</td>\n",
       "    </tr>\n",
       "    <tr>\n",
       "      <th>min</th>\n",
       "      <td>0.000000</td>\n",
       "      <td>0.000000</td>\n",
       "      <td>2015.000000</td>\n",
       "      <td>1.000000</td>\n",
       "      <td>0.000000</td>\n",
       "      <td>0.000000</td>\n",
       "      <td>0.000000</td>\n",
       "      <td>0.000000</td>\n",
       "      <td>0.000000</td>\n",
       "      <td>0.000000</td>\n",
       "      <td>0.000000</td>\n",
       "      <td>0.000000</td>\n",
       "      <td>0.000000</td>\n",
       "      <td>0.000000</td>\n",
       "      <td>-6.380000</td>\n",
       "      <td>0.000000</td>\n",
       "      <td>0.000000</td>\n",
       "    </tr>\n",
       "    <tr>\n",
       "      <th>25%</th>\n",
       "      <td>0.000000</td>\n",
       "      <td>18.000000</td>\n",
       "      <td>2016.000000</td>\n",
       "      <td>8.000000</td>\n",
       "      <td>0.000000</td>\n",
       "      <td>1.000000</td>\n",
       "      <td>2.000000</td>\n",
       "      <td>0.000000</td>\n",
       "      <td>0.000000</td>\n",
       "      <td>0.000000</td>\n",
       "      <td>0.000000</td>\n",
       "      <td>0.000000</td>\n",
       "      <td>0.000000</td>\n",
       "      <td>0.000000</td>\n",
       "      <td>70.000000</td>\n",
       "      <td>0.000000</td>\n",
       "      <td>0.000000</td>\n",
       "    </tr>\n",
       "    <tr>\n",
       "      <th>50%</th>\n",
       "      <td>0.000000</td>\n",
       "      <td>69.000000</td>\n",
       "      <td>2016.000000</td>\n",
       "      <td>16.000000</td>\n",
       "      <td>1.000000</td>\n",
       "      <td>2.000000</td>\n",
       "      <td>2.000000</td>\n",
       "      <td>0.000000</td>\n",
       "      <td>0.000000</td>\n",
       "      <td>0.000000</td>\n",
       "      <td>0.000000</td>\n",
       "      <td>0.000000</td>\n",
       "      <td>0.000000</td>\n",
       "      <td>0.000000</td>\n",
       "      <td>95.000000</td>\n",
       "      <td>0.000000</td>\n",
       "      <td>0.000000</td>\n",
       "    </tr>\n",
       "    <tr>\n",
       "      <th>75%</th>\n",
       "      <td>1.000000</td>\n",
       "      <td>161.000000</td>\n",
       "      <td>2017.000000</td>\n",
       "      <td>23.000000</td>\n",
       "      <td>2.000000</td>\n",
       "      <td>3.000000</td>\n",
       "      <td>2.000000</td>\n",
       "      <td>0.000000</td>\n",
       "      <td>0.000000</td>\n",
       "      <td>0.000000</td>\n",
       "      <td>0.000000</td>\n",
       "      <td>0.000000</td>\n",
       "      <td>0.000000</td>\n",
       "      <td>0.000000</td>\n",
       "      <td>126.000000</td>\n",
       "      <td>0.000000</td>\n",
       "      <td>1.000000</td>\n",
       "    </tr>\n",
       "    <tr>\n",
       "      <th>max</th>\n",
       "      <td>1.000000</td>\n",
       "      <td>737.000000</td>\n",
       "      <td>2017.000000</td>\n",
       "      <td>31.000000</td>\n",
       "      <td>16.000000</td>\n",
       "      <td>41.000000</td>\n",
       "      <td>55.000000</td>\n",
       "      <td>10.000000</td>\n",
       "      <td>10.000000</td>\n",
       "      <td>1.000000</td>\n",
       "      <td>26.000000</td>\n",
       "      <td>72.000000</td>\n",
       "      <td>21.000000</td>\n",
       "      <td>391.000000</td>\n",
       "      <td>5400.000000</td>\n",
       "      <td>8.000000</td>\n",
       "      <td>5.000000</td>\n",
       "    </tr>\n",
       "  </tbody>\n",
       "</table>\n",
       "</div>"
      ],
      "text/plain": [
       "         is_canceled      lead_time  arrival_date_year  \\\n",
       "count  118898.000000  118898.000000      118898.000000   \n",
       "mean        0.371352     104.311435        2016.157656   \n",
       "std         0.483168     106.903309           0.707459   \n",
       "min         0.000000       0.000000        2015.000000   \n",
       "25%         0.000000      18.000000        2016.000000   \n",
       "50%         0.000000      69.000000        2016.000000   \n",
       "75%         1.000000     161.000000        2017.000000   \n",
       "max         1.000000     737.000000        2017.000000   \n",
       "\n",
       "       arrival_date_day_of_month  stays_in_weekend_nights  \\\n",
       "count              118898.000000            118898.000000   \n",
       "mean                   15.800880                 0.928897   \n",
       "std                     8.780324                 0.996216   \n",
       "min                     1.000000                 0.000000   \n",
       "25%                     8.000000                 0.000000   \n",
       "50%                    16.000000                 1.000000   \n",
       "75%                    23.000000                 2.000000   \n",
       "max                    31.000000                16.000000   \n",
       "\n",
       "       stays_in_week_nights         adults       children         babies  \\\n",
       "count         118898.000000  118898.000000  118898.000000  118898.000000   \n",
       "mean               2.502145       1.858391       0.104207       0.007948   \n",
       "std                1.900168       0.578576       0.399172       0.097380   \n",
       "min                0.000000       0.000000       0.000000       0.000000   \n",
       "25%                1.000000       2.000000       0.000000       0.000000   \n",
       "50%                2.000000       2.000000       0.000000       0.000000   \n",
       "75%                3.000000       2.000000       0.000000       0.000000   \n",
       "max               41.000000      55.000000      10.000000      10.000000   \n",
       "\n",
       "       is_repeated_guest  previous_cancellations  \\\n",
       "count      118898.000000           118898.000000   \n",
       "mean            0.032011                0.087142   \n",
       "std             0.176029                0.845869   \n",
       "min             0.000000                0.000000   \n",
       "25%             0.000000                0.000000   \n",
       "50%             0.000000                0.000000   \n",
       "75%             0.000000                0.000000   \n",
       "max             1.000000               26.000000   \n",
       "\n",
       "       previous_bookings_not_canceled  booking_changes  days_in_waiting_list  \\\n",
       "count                   118898.000000    118898.000000         118898.000000   \n",
       "mean                         0.131634         0.221181              2.330754   \n",
       "std                          1.484672         0.652785             17.630452   \n",
       "min                          0.000000         0.000000              0.000000   \n",
       "25%                          0.000000         0.000000              0.000000   \n",
       "50%                          0.000000         0.000000              0.000000   \n",
       "75%                          0.000000         0.000000              0.000000   \n",
       "max                         72.000000        21.000000            391.000000   \n",
       "\n",
       "                 adr  required_car_parking_spaces  total_of_special_requests  \n",
       "count  118898.000000                118898.000000              118898.000000  \n",
       "mean      102.003243                     0.061885                   0.571683  \n",
       "std        50.485862                     0.244172                   0.792678  \n",
       "min        -6.380000                     0.000000                   0.000000  \n",
       "25%        70.000000                     0.000000                   0.000000  \n",
       "50%        95.000000                     0.000000                   0.000000  \n",
       "75%       126.000000                     0.000000                   1.000000  \n",
       "max      5400.000000                     8.000000                   5.000000  "
      ]
     },
     "execution_count": 15,
     "metadata": {},
     "output_type": "execute_result"
    }
   ],
   "source": [
    "# Summary of numerical columns\n",
    "df.describe()"
   ]
  },
  {
   "cell_type": "code",
   "execution_count": 16,
   "id": "f2aaa1c8",
   "metadata": {},
   "outputs": [
    {
     "data": {
      "text/plain": [
       "<AxesSubplot:>"
      ]
     },
     "execution_count": 16,
     "metadata": {},
     "output_type": "execute_result"
    },
    {
     "data": {
      "image/png": "[encoded data removed]",
      "text/plain": [
       "<Figure size 640x480 with 1 Axes>"
      ]
     },
     "metadata": {},
     "output_type": "display_data"
    }
   ],
   "source": [
    "# # The column 'adr' has an outlier value of 5400 and value below '0'\n",
    "df['adr'].plot(kind = 'box')"
   ]
  },
  {
   "cell_type": "code",
   "execution_count": 17,
   "id": "ef5f79bf",
   "metadata": {},
   "outputs": [
    {
     "data": {
      "text/plain": [
       "35059       0.26\n",
       "47427       0.50\n",
       "83690       1.00\n",
       "83688       1.00\n",
       "47661       1.00\n",
       "           ...  \n",
       "13391     437.00\n",
       "13142     450.00\n",
       "103912    451.50\n",
       "15083     508.00\n",
       "111403    510.00\n",
       "Name: adr, Length: 116958, dtype: float64"
      ]
     },
     "execution_count": 17,
     "metadata": {},
     "output_type": "execute_result"
    }
   ],
   "source": [
    "# Remove the outlier value\n",
    "df = df[df['adr']<5000]\n",
    "df = df[df['adr']>0]\n",
    "df['adr'].sort_values()"
   ]
  },
  {
   "cell_type": "markdown",
   "id": "fa15aca5",
   "metadata": {},
   "source": [
    "### Data Analysis and Visualizations:"
   ]
  },
  {
   "cell_type": "markdown",
   "id": "26e9bad6",
   "metadata": {},
   "source": [
    "#### 1. Price has any influence on cancellation rates"
   ]
  },
  {
   "cell_type": "code",
   "execution_count": 18,
   "id": "abb5b99a",
   "metadata": {},
   "outputs": [],
   "source": [
    "# Filter data for city hotel and resort hotel\n",
    "city_hotel = df[df['hotel'] == 'City Hotel']\n",
    "resort_hotel = df[df['hotel'] == 'Resort Hotel']"
   ]
  },
  {
   "cell_type": "code",
   "execution_count": 19,
   "id": "9a6fd334",
   "metadata": {},
   "outputs": [],
   "source": [
    "# Calculate cancellation rates for each hotel type\n",
    "city_cancelled = city_hotel[city_hotel['is_canceled'] == 1]\n",
    "resort_cancelled = resort_hotel[resort_hotel['is_canceled'] == 1]\n",
    "\n",
    "city_cancellation_rate = len(city_cancelled) / len(city_hotel) * 100\n",
    "resort_cancellation_rate = len(resort_cancelled) / len(resort_hotel) * 100"
   ]
  },
  {
   "cell_type": "code",
   "execution_count": 20,
   "id": "17ec3f4f",
   "metadata": {},
   "outputs": [],
   "source": [
    "# Group data by ADR and calculate cancellation rates\n",
    "city_grouped = city_hotel.groupby(pd.cut(city_hotel['adr'], bins=5)).mean()\n",
    "resort_grouped = resort_hotel.groupby(pd.cut(resort_hotel['adr'], bins=5)).mean()"
   ]
  },
  {
   "cell_type": "code",
   "execution_count": 21,
   "id": "ddb40978",
   "metadata": {},
   "outputs": [],
   "source": [
    "# Extract ADR and cancellation rates for plotting\n",
    "city_adr = city_grouped['adr']\n",
    "city_cancellation_rates = city_grouped['is_canceled'] * 100\n",
    "\n",
    "resort_adr = resort_grouped['adr']\n",
    "resort_cancellation_rates = resort_grouped['is_canceled'] * 100"
   ]
  },
  {
   "cell_type": "code",
   "execution_count": 22,
   "id": "f03c25bd",
   "metadata": {},
   "outputs": [
    {
     "data": {
      "image/png": "[encoded data removed]",
      "text/plain": [
       "<Figure size 1200x800 with 1 Axes>"
      ]
     },
     "metadata": {},
     "output_type": "display_data"
    }
   ],
   "source": [
    "# Create visualization - bar chart\n",
    "plt.figure(figsize=(12, 8))\n",
    "plt.bar(city_adr.index.astype(str), city_cancellation_rates, label='City Hotel')\n",
    "plt.bar(resort_adr.index.astype(str), resort_cancellation_rates, label='Resort Hotel')\n",
    "plt.xlabel(\"ADR Range\", fontsize = 15)\n",
    "plt.ylabel(\"Cancellation Rate (%)\", fontsize = 15)\n",
    "plt.title(\"Cancellation Rates by ADR Range\", fontsize = 20)\n",
    "plt.xticks(rotation = 45)\n",
    "plt.legend()\n",
    "plt.show()"
   ]
  },
  {
   "cell_type": "code",
   "execution_count": 23,
   "id": "672a8f43",
   "metadata": {},
   "outputs": [
    {
     "name": "stdout",
     "output_type": "stream",
     "text": [
      "Correlation between ADR and cancellation rates for City Hotel: -0.9448911606933013\n",
      "Correlation between ADR and cancellation rates for Resort Hotel: 0.7613359164174446\n"
     ]
    }
   ],
   "source": [
    "# Calculate correlation coefficients\n",
    "city_correlation = stats.pearsonr(city_adr, city_cancellation_rates)\n",
    "resort_correlation = stats.pearsonr(resort_adr, resort_cancellation_rates)\n",
    "\n",
    "# Print correlation coefficients\n",
    "print(\"Correlation between ADR and cancellation rates for City Hotel:\", city_correlation[0])\n",
    "print(\"Correlation between ADR and cancellation rates for Resort Hotel:\", resort_correlation[0])"
   ]
  },
  {
   "cell_type": "markdown",
   "id": "eed0a202",
   "metadata": {},
   "source": [
    "The correlation coefficients between ADR and cancellation rates were obtained for both city hotels and resort hotels. By examining the correlation coefficients, we can assess the extent to which price (ADR) influences cancellation rates. \n",
    "\n",
    "Correlation between ADR and cancellation rates for City Hotel shows a strong negative influence and Correlation between ADR and cancellation rates for Resort Hotel shows a strong positive influence.\n",
    "\n",
    "Here we can see that for City Hotel, the lower the price the higher is the chance of cancellation of booking. Similarly, for Resort Hotel, the higher the price the higher is the chance of cancellation of booking."
   ]
  },
  {
   "cell_type": "markdown",
   "id": "0849ee78",
   "metadata": {},
   "source": [
    "#### 2. To check whether lead time affects the likelihood of cancellation."
   ]
  },
  {
   "cell_type": "code",
   "execution_count": 24,
   "id": "06b3e869",
   "metadata": {},
   "outputs": [],
   "source": [
    "df_data = ['lead_time', 'is_canceled']\n",
    "data = df[df_data].dropna()"
   ]
  },
  {
   "cell_type": "code",
   "execution_count": 25,
   "id": "08fb0a2c",
   "metadata": {},
   "outputs": [],
   "source": [
    "lead_time_intervals = [0, 7, 14, 30, 60, 90, 120, float('inf')]\n",
    "data['lead_time_interval'] = pd.cut(data['lead_time'], bins=lead_time_intervals)\n",
    "cancellation_rate = data.groupby('lead_time_interval')['is_canceled'].mean()"
   ]
  },
  {
   "cell_type": "code",
   "execution_count": 26,
   "id": "5d59f54f",
   "metadata": {},
   "outputs": [
    {
     "data": {
      "image/png": "[encoded data removed]",
      "text/plain": [
       "<Figure size 1000x600 with 1 Axes>"
      ]
     },
     "metadata": {},
     "output_type": "display_data"
    }
   ],
   "source": [
    "# Visualize cancellation rate by lead time\n",
    "plt.figure(figsize=(10, 6))\n",
    "sns.barplot(x=cancellation_rate.index, y=cancellation_rate.values)\n",
    "plt.xlabel('Lead Time Interval')\n",
    "plt.ylabel('Cancellation Rate')\n",
    "plt.title('Cancellation Rate by Lead Time')\n",
    "plt.xticks(rotation=45)\n",
    "plt.show()"
   ]
  },
  {
   "cell_type": "code",
   "execution_count": 27,
   "id": "84f4e7ff",
   "metadata": {},
   "outputs": [
    {
     "name": "stdout",
     "output_type": "stream",
     "text": [
      "           Canceled  Non-Canceled\n",
      "count  43949.000000  73009.000000\n",
      "mean     145.248948     81.375214\n",
      "std      118.558585     91.255643\n",
      "min        0.000000      0.000000\n",
      "25%       49.000000     10.000000\n",
      "50%      113.000000     47.000000\n",
      "75%      215.000000    127.000000\n",
      "max      629.000000    709.000000\n"
     ]
    }
   ],
   "source": [
    "# Calculate summary statistics for lead time in canceled and non-canceled bookings\n",
    "lead_time_canceled = data[data['is_canceled'] == 1]['lead_time']\n",
    "lead_time_non_canceled = data[data['is_canceled'] == 0]['lead_time']\n",
    "lead_time_stats = pd.DataFrame({'Canceled': lead_time_canceled.describe(),\n",
    "                                'Non-Canceled': lead_time_non_canceled.describe()})\n",
    "print(lead_time_stats)"
   ]
  },
  {
   "cell_type": "code",
   "execution_count": 28,
   "id": "f5bec3ed",
   "metadata": {},
   "outputs": [
    {
     "name": "stdout",
     "output_type": "stream",
     "text": [
      "Lead time has a significant effect on the likelihood of cancellation.\n"
     ]
    }
   ],
   "source": [
    "# Hypothesis Testing\n",
    "t_statistic, p_value = stats.ttest_ind(lead_time_canceled, lead_time_non_canceled)\n",
    "if p_value < 0.05:\n",
    "    print('Lead time has a significant effect on the likelihood of cancellation.')\n",
    "else:\n",
    "    print('Lead time does not have a significant effect on the likelihood of cancellation.')"
   ]
  },
  {
   "cell_type": "markdown",
   "id": "be290645",
   "metadata": {},
   "source": [
    "Bookings with longer lead times are more likely to be canceled. This suggests that customers may change their plans or circumstances over time, leading to a higher probability of cancellation.\n",
    "\n",
    "Bookings made closer to the arrival date have a lower likelihood of being canceled. This could indicate that customers who book closer to their intended stay have a higher level of certainty and are less likely to cancel their reservations."
   ]
  },
  {
   "cell_type": "markdown",
   "id": "2b7b30e3",
   "metadata": {},
   "source": [
    "#### 3. The type of hotel (resort hotel or city hotel) influences cancellation rates."
   ]
  },
  {
   "cell_type": "code",
   "execution_count": 29,
   "id": "feae5dc9",
   "metadata": {},
   "outputs": [],
   "source": [
    "# Filter the dataset\n",
    "resort_hotel = df[df['hotel'] == 'Resort Hotel']\n",
    "city_hotel = df[df['hotel'] == 'City Hotel']"
   ]
  },
  {
   "cell_type": "code",
   "execution_count": 30,
   "id": "3753a31b",
   "metadata": {},
   "outputs": [],
   "source": [
    "# Calculate cancellation rates\n",
    "resort_cancel_rate = (resort_hotel['is_canceled'].sum() / len(resort_hotel)) * 100\n",
    "city_cancel_rate = (city_hotel['is_canceled'].sum() / len(city_hotel)) * 100"
   ]
  },
  {
   "cell_type": "code",
   "execution_count": 31,
   "id": "826d585c",
   "metadata": {},
   "outputs": [
    {
     "data": {
      "image/png": "[encoded data removed]",
      "text/plain": [
       "<Figure size 800x600 with 1 Axes>"
      ]
     },
     "metadata": {},
     "output_type": "display_data"
    }
   ],
   "source": [
    "# Compare cancellation rates using a bar plot\n",
    "cancel_rates = pd.DataFrame({'Hotel Type': ['Resort Hotel', 'City Hotel'],\n",
    "                             'Cancellation Rate': [resort_cancel_rate, city_cancel_rate]})\n",
    "\n",
    "plt.figure(figsize=(8, 6))\n",
    "plt.bar(cancel_rates['Hotel Type'], cancel_rates['Cancellation Rate'])\n",
    "plt.title('Cancellation Rates by Hotel Type', fontsize=14)\n",
    "plt.xlabel('Hotel Type', fontsize=12)\n",
    "plt.ylabel('Cancellation Rate (%)', fontsize=12)\n",
    "plt.xticks(fontsize=10)\n",
    "plt.yticks(fontsize=10)\n",
    "plt.show()"
   ]
  },
  {
   "cell_type": "code",
   "execution_count": 32,
   "id": "6f4cb672",
   "metadata": {},
   "outputs": [],
   "source": [
    "# Create a contingency table\n",
    "contingency_table = pd.crosstab(df['hotel'], df['is_canceled'])"
   ]
  },
  {
   "cell_type": "code",
   "execution_count": 36,
   "id": "a2b2e2c4",
   "metadata": {},
   "outputs": [],
   "source": [
    "# Perform the chi-square test\n",
    "chi2, p_value, _, _ = chi2_contingency(contingency_table)"
   ]
  },
  {
   "cell_type": "code",
   "execution_count": 37,
   "id": "f946fb8e",
   "metadata": {},
   "outputs": [
    {
     "name": "stdout",
     "output_type": "stream",
     "text": [
      "There is a significant difference in cancellation rates between resort hotels and city hotels.\n"
     ]
    }
   ],
   "source": [
    "# Interpret the results\n",
    "alpha = 0.05  # Set the significance level\n",
    "\n",
    "if p_value < alpha:\n",
    "    print(\"There is a significant difference in cancellation rates between resort hotels and city hotels.\")\n",
    "else:\n",
    "    print(\"There is no significant difference in cancellation rates between resort hotels and city hotels.\")"
   ]
  },
  {
   "cell_type": "markdown",
   "id": "fdbeb9b1",
   "metadata": {},
   "source": [
    "Based on the p-value obtained from the chi-square test, we can conclude that there is a significant difference in cancellation rates between resort hotels and city hotels. The statistical analysis suggests that the type of hotel has an influence on cancellation rates.\n",
    "\n",
    "This finding indicates that the hotel type is a significant factor in determining the likelihood of a booking being cancelled. It implies that there are inherent differences in cancellation patterns and customer behaviors between resort hotels and city hotels."
   ]
  },
  {
   "cell_type": "markdown",
   "id": "33914a74",
   "metadata": {},
   "source": [
    "#### 4. Customers with previous cancellations are more likely to cancel their bookings again."
   ]
  },
  {
   "cell_type": "code",
   "execution_count": 38,
   "id": "9b0da796",
   "metadata": {},
   "outputs": [],
   "source": [
    "# Identify customers with previous cancellations\n",
    "customers_with_previous_cancellations = df[df['previous_cancellations'] > 0]"
   ]
  },
  {
   "cell_type": "code",
   "execution_count": 39,
   "id": "0bdc2824",
   "metadata": {},
   "outputs": [],
   "source": [
    "# Calculate cancellation rates\n",
    "total_bookings = len(df)\n",
    "total_customers_with_previous_cancellations = len(customers_with_previous_cancellations)\n",
    "total_canceled_bookings = len(df[df['is_canceled'] == 1])\n",
    "\n",
    "cancellation_rate_all_customers = total_canceled_bookings / total_bookings\n",
    "cancellation_rate_previous_cancellations = total_canceled_bookings / total_customers_with_previous_cancellations"
   ]
  },
  {
   "cell_type": "code",
   "execution_count": 40,
   "id": "777e9e0d",
   "metadata": {},
   "outputs": [],
   "source": [
    "# Perform chi-square test\n",
    "chi2, p, dof, expected = chi2_contingency(contingency_table)"
   ]
  },
  {
   "cell_type": "code",
   "execution_count": 41,
   "id": "bcc1b8cf",
   "metadata": {},
   "outputs": [
    {
     "name": "stdout",
     "output_type": "stream",
     "text": [
      "There is a significant association between previous cancellations and cancellation status.\n"
     ]
    }
   ],
   "source": [
    "# Interpret the results\n",
    "alpha = 0.05  # Set the significance level\n",
    "\n",
    "if p < alpha:\n",
    "    print(\"There is a significant association between previous cancellations and cancellation status.\")\n",
    "else:\n",
    "    print(\"There is no significant association between previous cancellations and cancellation status.\")"
   ]
  },
  {
   "cell_type": "code",
   "execution_count": 42,
   "id": "98026ed4",
   "metadata": {},
   "outputs": [
    {
     "data": {
      "image/png": "[encoded data removed]",
      "text/plain": [
       "<Figure size 800x600 with 1 Axes>"
      ]
     },
     "metadata": {},
     "output_type": "display_data"
    }
   ],
   "source": [
    "# Visualize the results\n",
    "labels = ['All Customers', 'Customers with Previous Cancellations']\n",
    "cancel_rates = [cancellation_rate_all_customers, cancellation_rate_previous_cancellations]\n",
    "\n",
    "plt.figure(figsize=(8, 6))\n",
    "sns.barplot(x=labels, y=cancel_rates)\n",
    "plt.title('Cancellation Rate Comparison')\n",
    "plt.ylabel('Cancellation Rate')\n",
    "plt.show()"
   ]
  },
  {
   "cell_type": "markdown",
   "id": "bc5557c1",
   "metadata": {},
   "source": [
    "The test result revealed that there is a significant association between previous cancellations and the cancellation status of customers (p < 0.05). This suggests that customers with previous cancellations are more likely to cancel their bookings again compared to customers without previous cancellations.\n",
    "The cacellation rate can also be confirmed with the bar plot.\n",
    "\n",
    "This finding supports the hypothesis that customers with previous cancellations are more prone to cancelling their bookings again. The statistical analysis provides evidence to conclude that there is a relationship between previous cancellations and the likelihood of future cancellations."
   ]
  },
  {
   "cell_type": "markdown",
   "id": "5561feda",
   "metadata": {},
   "source": [
    "#### 5. Booking cancellations vary by arrival month."
   ]
  },
  {
   "cell_type": "code",
   "execution_count": 43,
   "id": "11891f1f",
   "metadata": {},
   "outputs": [],
   "source": [
    "df_booking = ['arrival_date_month', 'is_canceled']\n",
    "data = df[df_booking]"
   ]
  },
  {
   "cell_type": "code",
   "execution_count": 44,
   "id": "d6ad9ec5",
   "metadata": {},
   "outputs": [],
   "source": [
    "# Group the Data\n",
    "grouped_data = data.groupby('arrival_date_month')"
   ]
  },
  {
   "cell_type": "code",
   "execution_count": 45,
   "id": "28ed5e1b",
   "metadata": {},
   "outputs": [],
   "source": [
    "# Calculate Cancellation Rates\n",
    "total_bookings = grouped_data.size()\n",
    "canceled_bookings = grouped_data['is_canceled'].sum()\n",
    "cancellation_rates = canceled_bookings / total_bookings * 100"
   ]
  },
  {
   "cell_type": "code",
   "execution_count": 46,
   "id": "559f9265",
   "metadata": {},
   "outputs": [
    {
     "data": {
      "image/png": "[encoded data removed]",
      "text/plain": [
       "<Figure size 1000x600 with 1 Axes>"
      ]
     },
     "metadata": {},
     "output_type": "display_data"
    }
   ],
   "source": [
    "# Visualize the Data\n",
    "plt.figure(figsize=(10, 6))\n",
    "\n",
    "# Sort the Data by Cancellation Rate\n",
    "cancellation_rates_sorted = cancellation_rates.sort_values(ascending=False)\n",
    "\n",
    "cancellation_rates_sorted.plot(kind='bar', color='skyblue')\n",
    "plt.title('Booking Cancellation Rates by Arrival Month')\n",
    "plt.xlabel('Arrival Month')\n",
    "plt.ylabel('Cancellation Rate (%)')\n",
    "plt.xticks(rotation=45)\n",
    "plt.grid(axis='y')\n",
    "plt.tight_layout()\n",
    "plt.show()"
   ]
  },
  {
   "cell_type": "code",
   "execution_count": 47,
   "id": "86ae4b58",
   "metadata": {},
   "outputs": [],
   "source": [
    "# Create a Contingency Table\n",
    "contingency_table = pd.crosstab(data['arrival_date_month'], data['is_canceled'])"
   ]
  },
  {
   "cell_type": "code",
   "execution_count": 48,
   "id": "bc61ce1e",
   "metadata": {},
   "outputs": [],
   "source": [
    "# Perform the Chi-Square Test\n",
    "chi2, p, _, _ = chi2_contingency(contingency_table)"
   ]
  },
  {
   "cell_type": "code",
   "execution_count": 49,
   "id": "e05dd421",
   "metadata": {},
   "outputs": [
    {
     "name": "stdout",
     "output_type": "stream",
     "text": [
      "There is a significant association between booking cancellations and arrival months.\n"
     ]
    }
   ],
   "source": [
    "# Interpret the Results\n",
    "alpha = 0.05  # significance level\n",
    "\n",
    "if p < alpha:\n",
    "    print(\"There is a significant association between booking cancellations and arrival months.\")\n",
    "else:\n",
    "    print(\"There is no significant association between booking cancellations and arrival months.\")"
   ]
  },
  {
   "cell_type": "markdown",
   "id": "403cfd6b",
   "metadata": {},
   "source": [
    "The bar chart reveals that there are variations in cancellation rates by arrival month. Some months have higher cancellation rates highest being in month of June, while others have lower rates lowest being in month of January. This suggests that the month of arrival can influence the likelihood of booking cancellations.\n",
    "\n",
    "The analysis provides insights into seasonal patterns related to booking cancellations. You can observe that there are specific months or seasons where cancellation rates are consistently higher like from April to June and lower from November to March. This information can be valuable for hotel management to anticipate and plan for fluctuations in cancellation rates throughout the year."
   ]
  },
  {
   "cell_type": "markdown",
   "id": "b6f442d2",
   "metadata": {},
   "source": [
    "#### 6. The deposit type impacts cancellation behavior."
   ]
  },
  {
   "cell_type": "code",
   "execution_count": 50,
   "id": "0b7096dc",
   "metadata": {},
   "outputs": [],
   "source": [
    "df_deposit = [\"deposit_type\", \"is_canceled\"]\n",
    "data_1 = df[df_deposit].copy() \n",
    "data_1.dropna(inplace=True)"
   ]
  },
  {
   "cell_type": "code",
   "execution_count": 51,
   "id": "291d0f76",
   "metadata": {},
   "outputs": [],
   "source": [
    "cancellation_rates = data_1.groupby(\"deposit_type\")[\"is_canceled\"].mean()*100"
   ]
  },
  {
   "cell_type": "code",
   "execution_count": 52,
   "id": "8f770f54",
   "metadata": {},
   "outputs": [
    {
     "data": {
      "image/png": "[encoded data removed]",
      "text/plain": [
       "<Figure size 1000x600 with 1 Axes>"
      ]
     },
     "metadata": {},
     "output_type": "display_data"
    }
   ],
   "source": [
    "# Visualization\n",
    "plt.figure(figsize=(10, 6))\n",
    "sns.barplot(x=cancellation_rates.index, y=cancellation_rates.values)\n",
    "plt.title(\"Cancellation Rate by Deposit Type\")\n",
    "plt.xlabel(\"Deposit Type\")\n",
    "plt.ylabel(\"Cancellation Rate (%)\")\n",
    "plt.show()"
   ]
  },
  {
   "cell_type": "code",
   "execution_count": 53,
   "id": "eb1e73f3",
   "metadata": {},
   "outputs": [
    {
     "name": "stdout",
     "output_type": "stream",
     "text": [
      "deposit_type\n",
      "No Deposit    28.793630\n",
      "Non Refund    99.361790\n",
      "Refundable    22.222222\n",
      "Name: is_canceled, dtype: float64\n"
     ]
    }
   ],
   "source": [
    "# Cancellation rates within subgroups\n",
    "subgroup_cancellation_rates = data_1.groupby(['deposit_type'])['is_canceled'].mean()*100\n",
    "print(subgroup_cancellation_rates)"
   ]
  },
  {
   "cell_type": "code",
   "execution_count": 54,
   "id": "96b8c928",
   "metadata": {},
   "outputs": [
    {
     "name": "stdout",
     "output_type": "stream",
     "text": [
      "There is a significant association between deposit type and cancellation behavior.\n"
     ]
    }
   ],
   "source": [
    "observed = data_1.groupby(['deposit_type', 'is_canceled']).size().unstack()\n",
    "chi2, p, _, _ = chi2_contingency(observed)\n",
    "if p < 0.05:\n",
    "    print(\"There is a significant association between deposit type and cancellation behavior.\")\n",
    "else:\n",
    "    print(\"There is no significant association between deposit type and cancellation behavior.\")"
   ]
  },
  {
   "cell_type": "markdown",
   "id": "d515e70a",
   "metadata": {},
   "source": [
    "The analysis indicates that there is a significant association between the deposit type and cancellation behavior. The cancellation rates vary significantly depending on the type of deposit chosen by the customers. This finding suggests that the deposit type is a significant factor influencing the likelihood of cancellations.\n",
    "\n",
    "It is recommended for the hotel management to consider the deposit type as an important factor when assessing and predicting cancellation behavior. Understanding the relationship between deposit type and cancellations can help in developing strategies to minimize cancellations and optimize revenue management. This insight can aid in making informed decisions regarding deposit policies, such as adjusting the amount or implementing stricter policies for certain deposit types to reduce cancellation rates."
   ]
  },
  {
   "cell_type": "markdown",
   "id": "97adb322",
   "metadata": {},
   "source": [
    "### Machine Learning"
   ]
  },
  {
   "cell_type": "code",
   "execution_count": 85,
   "id": "44cca4d4",
   "metadata": {},
   "outputs": [],
   "source": [
    "# Drop irrelevant columns\n",
    "df = df.drop(['reservation_status', 'reservation_status_date'], axis=1)"
   ]
  },
  {
   "cell_type": "code",
   "execution_count": 87,
   "id": "ef06ad55",
   "metadata": {},
   "outputs": [],
   "source": [
    "# Fill missing values with appropriate methods\n",
    "df['children'].fillna(0, inplace=True)\n",
    "df['country'].fillna(df['country'].mode()[0], inplace=True)"
   ]
  },
  {
   "cell_type": "code",
   "execution_count": 88,
   "id": "3fb52d3e",
   "metadata": {},
   "outputs": [],
   "source": [
    "# Encode categorical variables\n",
    "label_encoder = LabelEncoder()\n",
    "df['hotel'] = label_encoder.fit_transform(df['hotel'])\n",
    "df['arrival_date_month'] = label_encoder.fit_transform(df['arrival_date_month'])\n",
    "df['meal'] = label_encoder.fit_transform(df['meal'])\n",
    "df['country'] = label_encoder.fit_transform(df['country'])\n",
    "df['market_segment'] = label_encoder.fit_transform(df['market_segment'])\n",
    "df['distribution_channel'] = label_encoder.fit_transform(df['distribution_channel'])\n",
    "df['reserved_room_type'] = label_encoder.fit_transform(df['reserved_room_type'])\n",
    "df['assigned_room_type'] = label_encoder.fit_transform(df['assigned_room_type'])\n",
    "df['deposit_type'] = label_encoder.fit_transform(df['deposit_type'])\n",
    "df['customer_type'] = label_encoder.fit_transform(df['customer_type'])"
   ]
  },
  {
   "cell_type": "code",
   "execution_count": 89,
   "id": "ad98403c",
   "metadata": {},
   "outputs": [],
   "source": [
    "# Split the dataset into features and target variable\n",
    "X = df.drop('is_canceled', axis=1)\n",
    "y = df['is_canceled']"
   ]
  },
  {
   "cell_type": "code",
   "execution_count": 157,
   "id": "02ec3359",
   "metadata": {},
   "outputs": [],
   "source": [
    "# Split the data into training and testing sets\n",
    "X_train, X_test, y_train, y_test = train_test_split(X, y, test_size=0.22, random_state=42)"
   ]
  },
  {
   "cell_type": "markdown",
   "id": "8ca4b6fa",
   "metadata": {},
   "source": [
    "#### 1. Random Forest Classifier"
   ]
  },
  {
   "cell_type": "code",
   "execution_count": 158,
   "id": "1f8da691",
   "metadata": {},
   "outputs": [
    {
     "data": {
      "text/plain": [
       "RandomForestClassifier(random_state=42)"
      ]
     },
     "execution_count": 158,
     "metadata": {},
     "output_type": "execute_result"
    }
   ],
   "source": [
    "# Train a Random Forest Classifier\n",
    "rf_model = RandomForestClassifier(random_state=42)\n",
    "rf_model.fit(X_train, y_train)"
   ]
  },
  {
   "cell_type": "code",
   "execution_count": 159,
   "id": "4d879972",
   "metadata": {},
   "outputs": [],
   "source": [
    "# Make predictions on the test set\n",
    "y_pred = rf_model.predict(X_test)"
   ]
  },
  {
   "cell_type": "code",
   "execution_count": 160,
   "id": "0679c2fc",
   "metadata": {},
   "outputs": [
    {
     "name": "stdout",
     "output_type": "stream",
     "text": [
      "Accuracy: 0.8875675255528351\n"
     ]
    }
   ],
   "source": [
    "# Evaluate the model's accuracy\n",
    "accuracy = accuracy_score(y_test, y_pred)\n",
    "print(\"Accuracy:\", accuracy)"
   ]
  },
  {
   "cell_type": "code",
   "execution_count": 161,
   "id": "34417616",
   "metadata": {},
   "outputs": [
    {
     "name": "stdout",
     "output_type": "stream",
     "text": [
      "Confusion Matrix:\n",
      "[[15014  1040]\n",
      " [ 1853  7824]]\n"
     ]
    }
   ],
   "source": [
    "# Create a confusion matrix\n",
    "cm = confusion_matrix(y_test, y_pred)\n",
    "print(\"Confusion Matrix:\")\n",
    "print(cm)"
   ]
  },
  {
   "cell_type": "markdown",
   "id": "1da4f85e",
   "metadata": {},
   "source": [
    "#### 2. Logistic Regression"
   ]
  },
  {
   "cell_type": "code",
   "execution_count": 162,
   "id": "1846c7fa",
   "metadata": {},
   "outputs": [
    {
     "data": {
      "text/plain": [
       "LogisticRegression(random_state=42)"
      ]
     },
     "execution_count": 162,
     "metadata": {},
     "output_type": "execute_result"
    }
   ],
   "source": [
    "# Initialize and train the Logistic Regression model\n",
    "model = LogisticRegression(random_state=42)\n",
    "model.fit(X_train, y_train)"
   ]
  },
  {
   "cell_type": "code",
   "execution_count": 163,
   "id": "264545c7",
   "metadata": {},
   "outputs": [],
   "source": [
    "# Make predictions on the testing set\n",
    "y_pred = model.predict(X_test)"
   ]
  },
  {
   "cell_type": "code",
   "execution_count": 164,
   "id": "6d1cdfef",
   "metadata": {},
   "outputs": [
    {
     "name": "stdout",
     "output_type": "stream",
     "text": [
      "Accuracy: 0.7450934670242121\n"
     ]
    }
   ],
   "source": [
    "# Evaluate the model's accuracy\n",
    "accuracy = accuracy_score(y_test, y_pred)\n",
    "print('Accuracy:', accuracy)"
   ]
  },
  {
   "cell_type": "code",
   "execution_count": 165,
   "id": "30197eba",
   "metadata": {},
   "outputs": [
    {
     "name": "stdout",
     "output_type": "stream",
     "text": [
      "Confusion Matrix:\n",
      " [[13700  2354]\n",
      " [ 4205  5472]]\n"
     ]
    }
   ],
   "source": [
    "# Print the confusion matrix\n",
    "cm = confusion_matrix(y_test, y_pred)\n",
    "print('Confusion Matrix:\\n', cm)"
   ]
  },
  {
   "cell_type": "markdown",
   "id": "b45d8c86",
   "metadata": {},
   "source": [
    "#### From the above methods we can accurately predict upto 89% with the help of Random Forest classifier whether a booking will be cancelled or not."
   ]
  },
  {
   "cell_type": "markdown",
   "id": "0fa32d43",
   "metadata": {},
   "source": [
    "### Conclusion:"
   ]
  },
  {
   "cell_type": "markdown",
   "id": "a4e32bed",
   "metadata": {},
   "source": [
    "The analysis of the hotel booking dataset reveals several insights that can help hotels increase profits and reduce cancellation rates:\n",
    "\n",
    "1. Deposit Type and Cancellation Behavior:\n",
    "There is a significant association between the deposit type and cancellation behavior. Different deposit types have varying cancellation rates. This suggests that the deposit type chosen by customers influences the likelihood of cancellations.\n",
    "\n",
    "2. Flexible Cancellation Policies:\n",
    "Offer flexible cancellation policies that provide customers with options to modify or cancel their bookings without incurring substantial penalties. This can help attract more bookings and reduce cancellations.\n",
    "\n",
    "3. Clear Communication:\n",
    "Clearly communicate the terms and conditions related to cancellations and deposits to customers during the booking process. Ensure that customers understand the implications of their chosen deposit type and cancellation policies, which can help manage expectations and reduce misunderstandings.\n",
    "\n",
    "4. Targeted Marketing and Promotions:\n",
    "Analyze customer preferences and booking patterns to target specific customer segments with tailored marketing and promotional campaigns. By understanding customer behavior, hotels can attract more committed bookings and reduce the likelihood of cancellations.\n",
    "\n",
    "5. Revenue Management:\n",
    "Implement effective revenue management strategies to optimize pricing and availability. Analyze historical data to identify periods of high demand and adjust pricing accordingly. This can help maximize revenue and discourage last-minute cancellations.\n",
    "\n",
    "6. Customer Engagement:\n",
    "Focus on building strong customer relationships and loyalty. Provide personalized experiences, loyalty programs, and incentives for direct bookings to encourage customer loyalty and reduce cancellations.\n",
    "\n",
    "7. Improve Website and Booking Experience:\n",
    "Enhance the user experience on the hotel's website and booking platforms. Ensure that the booking process is user-friendly, transparent, and provides all necessary information. Simplify the steps required to book and provide multiple payment options to improve the conversion rate and reduce booking abandonment.\n",
    "\n",
    "8. Continuous Monitoring and Analysis:\n",
    "Regularly monitor cancellation rates and analyze booking trends to identify patterns and potential areas for improvement. Stay updated with industry trends and adjust strategies accordingly.\n",
    "\n",
    "By implementing these tips, hotels can work towards increasing profits and reducing cancellation rates. It is important to continuously evaluate and adapt strategies based on data analysis, customer feedback, and industry changes to optimize performance and achieve long-term success."
   ]
  },
  {
   "cell_type": "markdown",
   "id": "21d004eb",
   "metadata": {},
   "source": [
    "# THANK YOU"
   ]
  }
 ],
 "metadata": {
  "kernelspec": {
   "display_name": "Python 3 (ipykernel)",
   "language": "python",
   "name": "python3"
  },
  "language_info": {
   "codemirror_mode": {
    "name": "ipython",
    "version": 3
   },
   "file_extension": ".py",
   "mimetype": "text/x-python",
   "name": "python",
   "nbconvert_exporter": "python",
   "pygments_lexer": "ipython3",
   "version": "3.9.13"
  }
 },
 "nbformat": 4,
 "nbformat_minor": 5
}
