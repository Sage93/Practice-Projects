{
 "cells": [
  {
   "cell_type": "markdown",
   "id": "662ee4de",
   "metadata": {},
   "source": [
    "# Credit Card Fraud Detection"
   ]
  },
  {
   "cell_type": "markdown",
   "id": "d0736182",
   "metadata": {},
   "source": [
    "### Introduction:\n",
    "\n",
    "In today's digital age, credit card transactions have become an integral part of our daily lives. With the convenience of online shopping and the increasing popularity of e-commerce platforms, the use of credit cards has skyrocketed. However, along with this surge in usage comes the looming threat of credit card fraud. As technology advances, so do the methods employed by fraudsters to exploit unsuspecting cardholders and financial institutions.\n",
    "\n",
    "Credit card fraud refers to the unauthorized use of someone else's credit card information to make purchases or conduct fraudulent activities. It poses significant risks not only to individuals but also to businesses, financial institutions, and the economy as a whole. The need to detect and prevent credit card fraud has never been more critical.\n",
    "\n",
    "The Need for Credit Card Fraud Detection:\n",
    "\n",
    "**Protecting Consumers:** Credit card fraud can have severe consequences for individuals. Victims may face financial losses, damaged credit scores, and the burden of proving their innocence. Implementing robust fraud detection systems helps protect consumers from falling victim to fraudulent activities, offering peace of mind and ensuring their trust in the financial system.\n",
    "\n",
    "**Safeguarding Financial Institutions:** Fraudulent transactions can result in substantial losses for banks, credit card companies, and other financial institutions. By investing in effective fraud detection systems, these institutions can minimize financial risks and protect their assets, reputation, and overall stability.\n",
    "\n",
    "**Preserving the Economy:** Credit card fraud not only affects individuals and financial institutions but also has wider economic implications. When fraudulent activities go undetected, they can lead to increased costs for businesses, which are often passed on to consumers. Moreover, fraud can erode trust in online transactions, hampering e-commerce growth and hindering economic development.\n",
    "\n",
    "**Staying Ahead of Sophisticated Fraudsters:** Fraudsters continuously adapt and develop new techniques to exploit vulnerabilities in payment systems. Traditional rule-based systems are no longer sufficient to keep up with the evolving nature of fraud. Advanced analytics and machine learning algorithms offer the ability to analyze vast amounts of data and detect subtle patterns that may indicate fraudulent behavior, allowing institutions to stay one step ahead of fraudsters.\n",
    "\n",
    "**Compliance with Regulatory Standards:** Financial institutions are subject to various regulations and compliance requirements aimed at safeguarding customer data and preventing financial crimes. Implementing effective fraud detection systems helps institutions meet these regulatory obligations, avoiding penalties and legal consequences."
   ]
  },
  {
   "cell_type": "markdown",
   "id": "f648b413",
   "metadata": {},
   "source": [
    "### Aim:\n",
    "Detect potential fraud cases so that the customers are ensured that they won’t be charged for the items they did not purchase."
   ]
  },
  {
   "cell_type": "code",
   "execution_count": 1,
   "id": "a8390b3a",
   "metadata": {},
   "outputs": [],
   "source": [
    "# IMPORTING PACKAGES\n",
    "\n",
    "import pandas as pd # data processing\n",
    "import numpy as np # working with arrays\n",
    "import matplotlib.pyplot as plt # visualization\n",
    "import itertools # advanced tools\n",
    "\n",
    "from sklearn.preprocessing import StandardScaler # data normalization\n",
    "from sklearn.model_selection import train_test_split # data split\n",
    "from sklearn.tree import DecisionTreeClassifier # Decision tree algorithm\n",
    "from sklearn.neighbors import KNeighborsClassifier # KNN algorithm\n",
    "from sklearn.linear_model import LogisticRegression # Logistic regression algorithm\n",
    "from sklearn.svm import SVC # SVM algorithm\n",
    "from sklearn.ensemble import RandomForestClassifier # Random forest tree algorithm\n",
    "from xgboost import XGBClassifier # XGBoost algorithm\n",
    "\n",
    "from sklearn.metrics import confusion_matrix # evaluation metric\n",
    "from sklearn.metrics import accuracy_score # evaluation metric\n",
    "from sklearn.metrics import f1_score # evaluation metric\n",
    "\n",
    "import warnings\n",
    "warnings.filterwarnings(\"ignore\")"
   ]
  },
  {
   "cell_type": "code",
   "execution_count": 2,
   "id": "349e0b7e",
   "metadata": {},
   "outputs": [
    {
     "data": {
      "text/html": [
       "<div>\n",
       "<style scoped>\n",
       "    .dataframe tbody tr th:only-of-type {\n",
       "        vertical-align: middle;\n",
       "    }\n",
       "\n",
       "    .dataframe tbody tr th {\n",
       "        vertical-align: top;\n",
       "    }\n",
       "\n",
       "    .dataframe thead th {\n",
       "        text-align: right;\n",
       "    }\n",
       "</style>\n",
       "<table border=\"1\" class=\"dataframe\">\n",
       "  <thead>\n",
       "    <tr style=\"text-align: right;\">\n",
       "      <th></th>\n",
       "      <th>Time</th>\n",
       "      <th>V1</th>\n",
       "      <th>V2</th>\n",
       "      <th>V3</th>\n",
       "      <th>V4</th>\n",
       "      <th>V5</th>\n",
       "      <th>V6</th>\n",
       "      <th>V7</th>\n",
       "      <th>V8</th>\n",
       "      <th>V9</th>\n",
       "      <th>...</th>\n",
       "      <th>V21</th>\n",
       "      <th>V22</th>\n",
       "      <th>V23</th>\n",
       "      <th>V24</th>\n",
       "      <th>V25</th>\n",
       "      <th>V26</th>\n",
       "      <th>V27</th>\n",
       "      <th>V28</th>\n",
       "      <th>Amount</th>\n",
       "      <th>Class</th>\n",
       "    </tr>\n",
       "  </thead>\n",
       "  <tbody>\n",
       "    <tr>\n",
       "      <th>0</th>\n",
       "      <td>0.0</td>\n",
       "      <td>-1.359807</td>\n",
       "      <td>-0.072781</td>\n",
       "      <td>2.536347</td>\n",
       "      <td>1.378155</td>\n",
       "      <td>-0.338321</td>\n",
       "      <td>0.462388</td>\n",
       "      <td>0.239599</td>\n",
       "      <td>0.098698</td>\n",
       "      <td>0.363787</td>\n",
       "      <td>...</td>\n",
       "      <td>-0.018307</td>\n",
       "      <td>0.277838</td>\n",
       "      <td>-0.110474</td>\n",
       "      <td>0.066928</td>\n",
       "      <td>0.128539</td>\n",
       "      <td>-0.189115</td>\n",
       "      <td>0.133558</td>\n",
       "      <td>-0.021053</td>\n",
       "      <td>149.62</td>\n",
       "      <td>0</td>\n",
       "    </tr>\n",
       "    <tr>\n",
       "      <th>1</th>\n",
       "      <td>0.0</td>\n",
       "      <td>1.191857</td>\n",
       "      <td>0.266151</td>\n",
       "      <td>0.166480</td>\n",
       "      <td>0.448154</td>\n",
       "      <td>0.060018</td>\n",
       "      <td>-0.082361</td>\n",
       "      <td>-0.078803</td>\n",
       "      <td>0.085102</td>\n",
       "      <td>-0.255425</td>\n",
       "      <td>...</td>\n",
       "      <td>-0.225775</td>\n",
       "      <td>-0.638672</td>\n",
       "      <td>0.101288</td>\n",
       "      <td>-0.339846</td>\n",
       "      <td>0.167170</td>\n",
       "      <td>0.125895</td>\n",
       "      <td>-0.008983</td>\n",
       "      <td>0.014724</td>\n",
       "      <td>2.69</td>\n",
       "      <td>0</td>\n",
       "    </tr>\n",
       "    <tr>\n",
       "      <th>2</th>\n",
       "      <td>1.0</td>\n",
       "      <td>-1.358354</td>\n",
       "      <td>-1.340163</td>\n",
       "      <td>1.773209</td>\n",
       "      <td>0.379780</td>\n",
       "      <td>-0.503198</td>\n",
       "      <td>1.800499</td>\n",
       "      <td>0.791461</td>\n",
       "      <td>0.247676</td>\n",
       "      <td>-1.514654</td>\n",
       "      <td>...</td>\n",
       "      <td>0.247998</td>\n",
       "      <td>0.771679</td>\n",
       "      <td>0.909412</td>\n",
       "      <td>-0.689281</td>\n",
       "      <td>-0.327642</td>\n",
       "      <td>-0.139097</td>\n",
       "      <td>-0.055353</td>\n",
       "      <td>-0.059752</td>\n",
       "      <td>378.66</td>\n",
       "      <td>0</td>\n",
       "    </tr>\n",
       "    <tr>\n",
       "      <th>3</th>\n",
       "      <td>1.0</td>\n",
       "      <td>-0.966272</td>\n",
       "      <td>-0.185226</td>\n",
       "      <td>1.792993</td>\n",
       "      <td>-0.863291</td>\n",
       "      <td>-0.010309</td>\n",
       "      <td>1.247203</td>\n",
       "      <td>0.237609</td>\n",
       "      <td>0.377436</td>\n",
       "      <td>-1.387024</td>\n",
       "      <td>...</td>\n",
       "      <td>-0.108300</td>\n",
       "      <td>0.005274</td>\n",
       "      <td>-0.190321</td>\n",
       "      <td>-1.175575</td>\n",
       "      <td>0.647376</td>\n",
       "      <td>-0.221929</td>\n",
       "      <td>0.062723</td>\n",
       "      <td>0.061458</td>\n",
       "      <td>123.50</td>\n",
       "      <td>0</td>\n",
       "    </tr>\n",
       "    <tr>\n",
       "      <th>4</th>\n",
       "      <td>2.0</td>\n",
       "      <td>-1.158233</td>\n",
       "      <td>0.877737</td>\n",
       "      <td>1.548718</td>\n",
       "      <td>0.403034</td>\n",
       "      <td>-0.407193</td>\n",
       "      <td>0.095921</td>\n",
       "      <td>0.592941</td>\n",
       "      <td>-0.270533</td>\n",
       "      <td>0.817739</td>\n",
       "      <td>...</td>\n",
       "      <td>-0.009431</td>\n",
       "      <td>0.798278</td>\n",
       "      <td>-0.137458</td>\n",
       "      <td>0.141267</td>\n",
       "      <td>-0.206010</td>\n",
       "      <td>0.502292</td>\n",
       "      <td>0.219422</td>\n",
       "      <td>0.215153</td>\n",
       "      <td>69.99</td>\n",
       "      <td>0</td>\n",
       "    </tr>\n",
       "  </tbody>\n",
       "</table>\n",
       "<p>5 rows × 31 columns</p>\n",
       "</div>"
      ],
      "text/plain": [
       "   Time        V1        V2        V3        V4        V5        V6        V7  \\\n",
       "0   0.0 -1.359807 -0.072781  2.536347  1.378155 -0.338321  0.462388  0.239599   \n",
       "1   0.0  1.191857  0.266151  0.166480  0.448154  0.060018 -0.082361 -0.078803   \n",
       "2   1.0 -1.358354 -1.340163  1.773209  0.379780 -0.503198  1.800499  0.791461   \n",
       "3   1.0 -0.966272 -0.185226  1.792993 -0.863291 -0.010309  1.247203  0.237609   \n",
       "4   2.0 -1.158233  0.877737  1.548718  0.403034 -0.407193  0.095921  0.592941   \n",
       "\n",
       "         V8        V9  ...       V21       V22       V23       V24       V25  \\\n",
       "0  0.098698  0.363787  ... -0.018307  0.277838 -0.110474  0.066928  0.128539   \n",
       "1  0.085102 -0.255425  ... -0.225775 -0.638672  0.101288 -0.339846  0.167170   \n",
       "2  0.247676 -1.514654  ...  0.247998  0.771679  0.909412 -0.689281 -0.327642   \n",
       "3  0.377436 -1.387024  ... -0.108300  0.005274 -0.190321 -1.175575  0.647376   \n",
       "4 -0.270533  0.817739  ... -0.009431  0.798278 -0.137458  0.141267 -0.206010   \n",
       "\n",
       "        V26       V27       V28  Amount  Class  \n",
       "0 -0.189115  0.133558 -0.021053  149.62      0  \n",
       "1  0.125895 -0.008983  0.014724    2.69      0  \n",
       "2 -0.139097 -0.055353 -0.059752  378.66      0  \n",
       "3 -0.221929  0.062723  0.061458  123.50      0  \n",
       "4  0.502292  0.219422  0.215153   69.99      0  \n",
       "\n",
       "[5 rows x 31 columns]"
      ]
     },
     "execution_count": 2,
     "metadata": {},
     "output_type": "execute_result"
    }
   ],
   "source": [
    "# IMPORTING DATA\n",
    "\n",
    "df = pd.read_csv('C:\\\\Users\\Administrator\\Downloads\\Datasets\\creditcard.csv')\n",
    "df.head()"
   ]
  },
  {
   "cell_type": "code",
   "execution_count": 3,
   "id": "936416a6",
   "metadata": {},
   "outputs": [
    {
     "name": "stdout",
     "output_type": "stream",
     "text": [
      "CASE COUNT\n",
      "----------------------------------------\n",
      "Total number of cases are 284807\n",
      "Number of Non-fraud cases are 284315\n",
      "Number of Non-fraud cases are 492\n",
      "Percentage of fraud cases is 0.17\n",
      "----------------------------------------\n"
     ]
    }
   ],
   "source": [
    "cases = len(df)\n",
    "nonfraud_count = len(df[df.Class == 0])\n",
    "fraud_count = len(df[df.Class == 1])\n",
    "fraud_percentage = round(fraud_count/nonfraud_count*100, 2)\n",
    "\n",
    "print('CASE COUNT')\n",
    "print('-'*40)\n",
    "print('Total number of cases are {}'.format(cases))\n",
    "print('Number of Non-fraud cases are {}'.format(nonfraud_count))\n",
    "print('Number of Non-fraud cases are {}'.format(fraud_count))\n",
    "print('Percentage of fraud cases is {}'.format(fraud_percentage))\n",
    "print('-'*40)"
   ]
  },
  {
   "cell_type": "markdown",
   "id": "5202cf58",
   "metadata": {},
   "source": [
    "We can see that out of 284,807 samples, there are only 492 fraud cases which is only 0.17 percent of the total samples. So, we can say that the data we are dealing with is highly imbalanced data and needs to be handled carefully when modeling and evaluating."
   ]
  },
  {
   "cell_type": "code",
   "execution_count": 4,
   "id": "724c9b31",
   "metadata": {},
   "outputs": [
    {
     "name": "stdout",
     "output_type": "stream",
     "text": [
      "CASE AMOUNT STATISTICS\n",
      "----------------------------------------\n",
      "NON-FRAUD CASE AMOUNT STATS\n",
      "count    284315.000000\n",
      "mean         88.291022\n",
      "std         250.105092\n",
      "min           0.000000\n",
      "25%           5.650000\n",
      "50%          22.000000\n",
      "75%          77.050000\n",
      "max       25691.160000\n",
      "Name: Amount, dtype: float64\n",
      "----------------------------------------\n",
      "FRAUD CASE AMOUNT STATS\n",
      "count     492.000000\n",
      "mean      122.211321\n",
      "std       256.683288\n",
      "min         0.000000\n",
      "25%         1.000000\n",
      "50%         9.250000\n",
      "75%       105.890000\n",
      "max      2125.870000\n",
      "Name: Amount, dtype: float64\n",
      "----------------------------------------\n"
     ]
    }
   ],
   "source": [
    "nonfraud_cases = df[df.Class == 0]\n",
    "fraud_cases = df[df.Class == 1]\n",
    "\n",
    "print('CASE AMOUNT STATISTICS')\n",
    "print('-'*40)\n",
    "print('NON-FRAUD CASE AMOUNT STATS')\n",
    "print(nonfraud_cases.Amount.describe())\n",
    "print('-'*40)\n",
    "print('FRAUD CASE AMOUNT STATS')\n",
    "print(fraud_cases.Amount.describe())\n",
    "print('-'*40)"
   ]
  },
  {
   "cell_type": "markdown",
   "id": "901c6017",
   "metadata": {},
   "source": [
    "While seeing the statistics, it is seen that the values in the ‘Amount’ variable are varying enormously when compared to the rest of the variables. To reduce its wide range of values, we can normalize it using the ‘StandardScaler’ method in python."
   ]
  },
  {
   "cell_type": "code",
   "execution_count": 5,
   "id": "743cd0be",
   "metadata": {},
   "outputs": [
    {
     "name": "stdout",
     "output_type": "stream",
     "text": [
      "0    0.244964\n",
      "1   -0.342475\n",
      "2    1.160686\n",
      "3    0.140534\n",
      "4   -0.073403\n",
      "5   -0.338556\n",
      "6   -0.333279\n",
      "7   -0.190107\n",
      "8    0.019392\n",
      "9   -0.338516\n",
      "Name: Amount, dtype: float64\n"
     ]
    }
   ],
   "source": [
    "sc = StandardScaler()\n",
    "amount = df['Amount'].values\n",
    "\n",
    "df['Amount'] = sc.fit_transform(amount.reshape(-1, 1))\n",
    "\n",
    "print(df['Amount'].head(10))"
   ]
  },
  {
   "cell_type": "code",
   "execution_count": 6,
   "id": "d8357ef4",
   "metadata": {},
   "outputs": [
    {
     "name": "stdout",
     "output_type": "stream",
     "text": [
      "X_train samples :  [[ 5.31500000e+04 -1.11504743e+00  1.03558276e+00  8.00712441e-01\n",
      "  -1.06039825e+00  3.26211690e-02  8.53422160e-01 -6.14243480e-01\n",
      "  -3.23116112e+00  1.53994798e+00 -8.16908791e-01 -1.30559201e+00\n",
      "   1.08177199e-01 -8.59609580e-01 -7.19342108e-02  9.06655628e-01\n",
      "  -1.72092961e+00  7.97853221e-01 -6.75939779e-03  1.95677806e+00\n",
      "  -6.44895565e-01  3.02038533e+00 -5.39617976e-01  3.31564886e-02\n",
      "  -7.74945766e-01  1.05867812e-01 -4.30853482e-01  2.29736936e-01\n",
      "  -7.05913036e-02 -3.01454177e-01]]\n",
      "X_test samples :  [[ 1.25821000e+05 -3.23333572e-01  1.05745525e+00 -4.83411518e-02\n",
      "  -6.07204308e-01  1.25982115e+00 -9.17607168e-02  1.15910150e+00\n",
      "  -1.24334606e-01 -1.74639536e-01 -1.64440065e+00 -1.11886302e+00\n",
      "   2.02647310e-01  1.14596495e+00 -1.80235956e+00 -2.47177932e-01\n",
      "  -6.09453515e-02  8.46605738e-01  3.79454387e-01  8.47262245e-01\n",
      "   1.86409421e-01 -2.07098267e-01 -4.33890272e-01 -2.61613283e-01\n",
      "  -4.66506063e-02  2.11512300e-01  8.29721214e-03  1.08494430e-01\n",
      "   1.61139167e-01 -1.93305945e-01]]\n",
      "y_train samples :  [0 0 0 0 0 0 0 0 0 0 0 0 0 0 0 0 0 0 0 0]\n",
      "y_test samples :  [0 0 0 0 0 0 0 0 0 0 0 0 0 0 0 0 0 0 0 0]\n"
     ]
    }
   ],
   "source": [
    "# DATA SPLIT\n",
    "\n",
    "X = df.drop('Class', axis = 1).values\n",
    "y = df['Class'].values\n",
    "\n",
    "X_train, X_test, y_train, y_test = train_test_split(X, y, test_size = 0.2, random_state = 0)\n",
    "\n",
    "print('X_train samples : ', X_train[:1])\n",
    "print('X_test samples : ', X_test[0:1])\n",
    "print('y_train samples : ', y_train[0:20])\n",
    "print('y_test samples : ', y_test[0:20])"
   ]
  },
  {
   "cell_type": "code",
   "execution_count": 7,
   "id": "c2b76bd4",
   "metadata": {},
   "outputs": [],
   "source": [
    "# MODELING\n",
    "\n",
    "# 1. Decision Tree\n",
    "\n",
    "tree_model = DecisionTreeClassifier(max_depth = 4, criterion = 'entropy')\n",
    "tree_model.fit(X_train, y_train)\n",
    "tree_yhat = tree_model.predict(X_test)"
   ]
  },
  {
   "cell_type": "code",
   "execution_count": 12,
   "id": "fda3a25f",
   "metadata": {},
   "outputs": [],
   "source": [
    "# 2. K-Nearest Neighbors\n",
    "\n",
    "n = 5\n",
    "\n",
    "knn = KNeighborsClassifier(n_neighbors = n)\n",
    "knn.fit(X_train, y_train)\n",
    "knn_yhat = knn.predict(X_test)"
   ]
  },
  {
   "cell_type": "code",
   "execution_count": 8,
   "id": "62129b7d",
   "metadata": {},
   "outputs": [],
   "source": [
    "# 3. Logistic Regression\n",
    "\n",
    "lr = LogisticRegression()\n",
    "lr.fit(X_train, y_train)\n",
    "lr_yhat = lr.predict(X_test)"
   ]
  },
  {
   "cell_type": "code",
   "execution_count": 10,
   "id": "0ee70c9d",
   "metadata": {},
   "outputs": [],
   "source": [
    "# 4. SVM \n",
    "\n",
    "svm = SVC()\n",
    "svm.fit(X_train, y_train)\n",
    "svm_yhat = svm.predict(X_test)"
   ]
  },
  {
   "cell_type": "code",
   "execution_count": 11,
   "id": "b831a68c",
   "metadata": {},
   "outputs": [],
   "source": [
    "# 5. Random Forest Tree\n",
    "\n",
    "rf = RandomForestClassifier(max_depth = 4)\n",
    "rf.fit(X_train, y_train)\n",
    "rf_yhat = rf.predict(X_test)"
   ]
  },
  {
   "cell_type": "code",
   "execution_count": 9,
   "id": "d8573b49",
   "metadata": {},
   "outputs": [],
   "source": [
    "# 6. XGBoost\n",
    "\n",
    "xgb = XGBClassifier(max_depth = 4)\n",
    "xgb.fit(X_train, y_train)\n",
    "xgb_yhat = xgb.predict(X_test)"
   ]
  },
  {
   "cell_type": "markdown",
   "id": "2069f967",
   "metadata": {},
   "source": [
    "In the above code, we have built six different types of classification models starting from the Decision tree model to the XGBoost model. Now let’s breakdown the code.\n",
    "\n",
    "Starting with the decision tree, we have used the ‘DecisionTreeClassifier’ algorithm to build the model. Inside the algorithm, we have mentioned the ‘max_depth’ to be ‘4’ which means we are allowing the tree to split four times and the ‘criterion’ to be ‘entropy’ which is most similar to the ‘max_depth’ but determines when to stop splitting the tree. Finally, we have fitted and stored the predicted values into the ‘tree_yhat’ variable.\n",
    "\n",
    "Next is the K-Nearest Neighbors (KNN). We have built the model using the ‘KNeighborsClassifier’ algorithm and mentioned the ‘n_neighbors’ to be ‘5’. The value of the ‘n_neighbors’ is randomly selected but can be chosen optimistically through iterating a range of values, followed by fitting and storing the predicted values into the ‘knn_yhat’ variable.\n",
    "\n",
    "There is nothing much to explain about the code for Logistic regression as we kept the model in a way more simplistic manner by using the ‘LogisticRegression’ algorithm and as usual, fitted and stored the predicted variables in the ‘lr_yhat’ variable.\n",
    "\n",
    "We built the Support Vector Machine model using the ‘SVC’ algorithm and we didn’t mention anything inside the algorithm as we managed to use the default kernel which is the ‘rbf’ kernel. After that, we stored the predicted values into the ‘svm_yhat’ after fitting the model.\n",
    "\n",
    "The next model is the Random forest model which we built using the ‘RandomForestClassifier’ algorithm and we mentioned the ‘max_depth’ to be 4 just like how we did to build the decision tree model. Finally, fitting and storing the values into the ‘rf_yhat’. Remember that the main difference between the decision tree and the random forest is that, decision tree uses the entire dataset to construct a single model whereas, the random forest uses randomly selected features to construct multiple models. That’s the reason why the random forest model is used versus a decision tree.\n",
    "\n",
    "Our final model is the XGBoost model. We built the model using the ‘XGBClassifier’ algorithm provided by the xgboost package. We mentioned the ‘max_depth’ to be 4 and finally, fitted and stored the predicted values into the ‘xgb_yhat’.\n",
    "\n",
    "With that, we have successfully built our six types of classification models and interpreted the code for easy understanding. Our next step is to evaluate each of the models and find which is the most suitable one for our case.\n",
    "\n",
    "Evaluation\n",
    "As I said before, in this process we are going to evaluate our built models using the evaluation metrics provided by the scikit-learn package. Our main objective in this process is to find the best model for our given case. The evaluation metrics we are going to use are the accuracy score metric, f1 score metric, and finally the confusion matrix.\n",
    "\n",
    "1. Accuracy score\n",
    "Accuracy score is one of the most basic evaluation metrics which is widely used to evaluate classification models. The accuracy score is calculated simply by dividing the number of correct predictions made by the model by the total number of predictions made by the model (can be multiplied by 100 to transform the result into a percentage). It can generally be expressed as:\n",
    "\n",
    "Accuracy score = No.of correct predictions / Total no.of predictions\n",
    "\n",
    "Let’s check the accuracy score of the six different classification models we built. We can use the ‘accuracy_score’ method provided by the scikit-learn package."
   ]
  },
  {
   "cell_type": "code",
   "execution_count": 14,
   "id": "e507c426",
   "metadata": {},
   "outputs": [
    {
     "name": "stdout",
     "output_type": "stream",
     "text": [
      "ACCURACY SCORE\n",
      "------------------------------------------------------------\n",
      "Accuracy score of the Decision Tree model is 0.9993679997191109\n",
      "------------------------------------------------------------\n",
      "Accuracy score of the KNN model is 0.9983848881710614\n",
      "------------------------------------------------------------\n",
      "Accuracy score of the Logistic Regression model is 0.9990168884519505\n",
      "------------------------------------------------------------\n",
      "Accuracy score of the SVM model is 0.9982268881008391\n",
      "------------------------------------------------------------\n",
      "Accuracy score of the Random Forest Tree model is 0.9992802219023208\n",
      "------------------------------------------------------------\n",
      "Accuracy score of the XGBoost model is 0.9995084442259752\n",
      "------------------------------------------------------------\n"
     ]
    }
   ],
   "source": [
    "# 1. Accuracy score\n",
    "\n",
    "print('ACCURACY SCORE')\n",
    "print('-'*60)\n",
    "print('Accuracy score of the Decision Tree model is {}'.format(accuracy_score(y_test, tree_yhat)))\n",
    "print('-'*60)\n",
    "print('Accuracy score of the KNN model is {}'.format(accuracy_score(y_test, knn_yhat)))\n",
    "print('-'*60)\n",
    "print('Accuracy score of the Logistic Regression model is {}'.format(accuracy_score(y_test, lr_yhat)))\n",
    "print('-'*60)\n",
    "print('Accuracy score of the SVM model is {}'.format(accuracy_score(y_test, svm_yhat)))\n",
    "print('-'*60)\n",
    "print('Accuracy score of the Random Forest Tree model is {}'.format(accuracy_score(y_test, rf_yhat)))\n",
    "print('-'*60)\n",
    "print('Accuracy score of the XGBoost model is {}'.format(accuracy_score(y_test, xgb_yhat)))\n",
    "print('-'*60)"
   ]
  },
  {
   "cell_type": "markdown",
   "id": "734226d4",
   "metadata": {},
   "source": [
    "According to the accuracy score evaluation metric, the XGBoost model reveals to be the most accurate model and the SVM model to be the least accurate model. However, when we round up the results of each model, it shows 0.99 (99% accurate) which is a very good score.\n",
    "\n",
    "2. F1 Score\n",
    "The F1 score or F-score is one of the most popular evaluation metrics used for evaluating classification models. It can be simply defined as the harmonic mean of the model’s precision and recall. It is calculated by dividing the product of the model’s precision and recall by the value obtained on adding the model’s precision and recall and finally multiplying the result with 2. It can be expressed as:\n",
    "\n",
    "F1 score = 2( (precision * recall) / (precision + recall) )\n",
    "\n",
    "The F1 score can be calculated easily in python using the ‘f1_score’ method provided by the scikit-learn package."
   ]
  },
  {
   "cell_type": "code",
   "execution_count": 15,
   "id": "1bc09f68",
   "metadata": {},
   "outputs": [
    {
     "name": "stdout",
     "output_type": "stream",
     "text": [
      "F1 SCORE\n",
      "------------------------------------------------------------\n",
      "F1 score of the Decision Tree model is 0.8105263157894738\n",
      "------------------------------------------------------------\n",
      "F1 score of the KNN model is 0.1636363636363636\n",
      "------------------------------------------------------------\n",
      "F1 score of the Logistic Regression model is 0.7333333333333334\n",
      "------------------------------------------------------------\n",
      "F1 score of the SVM model is 0.0\n",
      "------------------------------------------------------------\n",
      "F1 score of the Random Forest Tree model is 0.768361581920904\n",
      "------------------------------------------------------------\n",
      "F1 score of the XGBoost model is 0.851063829787234\n",
      "------------------------------------------------------------\n"
     ]
    }
   ],
   "source": [
    "# 2. F1 score\n",
    "\n",
    "print('F1 SCORE')\n",
    "print('-'*60)\n",
    "print('F1 score of the Decision Tree model is {}'.format(f1_score(y_test, tree_yhat)))\n",
    "print('-'*60)\n",
    "print('F1 score of the KNN model is {}'.format(f1_score(y_test, knn_yhat)))\n",
    "print('-'*60)\n",
    "print('F1 score of the Logistic Regression model is {}'.format(f1_score(y_test, lr_yhat)))\n",
    "print('-'*60)\n",
    "print('F1 score of the SVM model is {}'.format(f1_score(y_test, svm_yhat)))\n",
    "print('-'*60)\n",
    "print('F1 score of the Random Forest Tree model is {}'.format(f1_score(y_test, rf_yhat)))\n",
    "print('-'*60)\n",
    "print('F1 score of the XGBoost model is {}'.format(f1_score(y_test, xgb_yhat)))\n",
    "print('-'*60)"
   ]
  },
  {
   "cell_type": "markdown",
   "id": "8d41ed06",
   "metadata": {},
   "source": [
    "The ranking of the models is almost similar to the previous evaluation metric. On basis of the F1 score evaluation metric, the XGBoost model snatches the first place again and the SVM model remains to be the least accurate model.\n",
    "\n",
    "3. Confusion Matrix\n",
    "Typically, a confusion matrix is a visualization of a classification model that shows how well the model has predicted the outcomes when compared to the original ones. Usually, the predicted outcomes are stored in a variable that is then converted into a correlation table. Using the correlation table, the confusion matrix is plotted in the form of a heatmap. Even though there are several built-in methods to visualize a confusion matrix, we are going to define and visualize it from scratch for better understanding. Let’s do it in python!"
   ]
  },
  {
   "cell_type": "code",
   "execution_count": 40,
   "id": "e1a65194",
   "metadata": {},
   "outputs": [],
   "source": [
    "# Defining the plot function\n",
    "def plot_confusion_matrix(ax, cm, classes, title, normalize=False, cmap=plt.cm.Blues):\n",
    "    title = 'Confusion Matrix of {}'.format(title)\n",
    "    if normalize:\n",
    "        cm = cm.astype(float) / cm.sum(axis=1)[:, np.newaxis]\n",
    "\n",
    "    im = ax.imshow(cm, interpolation='nearest', cmap=cmap)\n",
    "    ax.set_title(title)\n",
    "    tick_marks = np.arange(len(classes))\n",
    "    ax.set_xticks(tick_marks)\n",
    "    ax.set_yticks(tick_marks)\n",
    "    ax.set_xticklabels(classes)\n",
    "    ax.set_yticklabels(classes)\n",
    "\n",
    "    fmt = '.2f' if normalize else 'd'\n",
    "    thresh = cm.max() / 2.\n",
    "    for i, j in itertools.product(range(cm.shape[0]), range(cm.shape[1])):\n",
    "        ax.text(j, i, format(cm[i, j], fmt),\n",
    "                 horizontalalignment='center',\n",
    "                 color='white' if cm[i, j] > thresh else 'black')\n",
    "\n",
    "    ax.set_ylabel('True label')\n",
    "    ax.set_xlabel('Predicted label')"
   ]
  },
  {
   "cell_type": "code",
   "execution_count": 41,
   "id": "797e503d",
   "metadata": {},
   "outputs": [],
   "source": [
    "# Compute confusion matrix for the models\n",
    "tree_matrix = confusion_matrix(y_test, tree_yhat, labels=[0, 1])  # Decision Tree\n",
    "knn_matrix = confusion_matrix(y_test, knn_yhat, labels=[0, 1])  # K-Nearest Neighbors\n",
    "lr_matrix = confusion_matrix(y_test, lr_yhat, labels=[0, 1])  # Logistic Regression\n",
    "svm_matrix = confusion_matrix(y_test, svm_yhat, labels=[0, 1])  # Support Vector Machine\n",
    "rf_matrix = confusion_matrix(y_test, rf_yhat, labels=[0, 1])  # Random Forest Tree\n",
    "xgb_matrix = confusion_matrix(y_test, xgb_yhat, labels=[0, 1])  # XGBoost\n"
   ]
  },
  {
   "cell_type": "code",
   "execution_count": 42,
   "id": "0281c1c6",
   "metadata": {},
   "outputs": [
    {
     "data": {
      "image/png": "[encoded data removed]",
      "text/plain": [
       "<Figure size 1000x1200 with 6 Axes>"
      ]
     },
     "metadata": {},
     "output_type": "display_data"
    }
   ],
   "source": [
    "# Create subplots with 3 rows and 2 columns\n",
    "fig, axes = plt.subplots(nrows=3, ncols=2, figsize=(10, 12))\n",
    "\n",
    "# Plot the confusion matrices on subplots\n",
    "confusion_matrices = [tree_matrix, knn_matrix, lr_matrix, svm_matrix, rf_matrix, xgb_matrix]\n",
    "class_names = ['Non-Default(0)', 'Default(1)']\n",
    "titles = ['Decision Tree', 'KNN', 'Logistic Regression', 'SVM', 'Random Forest Tree', 'XGBoost']\n",
    "\n",
    "for ax, cm, title in zip(axes.flatten(), confusion_matrices, titles):\n",
    "    plot_confusion_matrix(ax, cm, classes=class_names, normalize=False, title=title)\n",
    "\n",
    "# Adjust spacing between subplots\n",
    "plt.tight_layout()\n",
    "\n",
    "# Display the plot\n",
    "plt.show()"
   ]
  },
  {
   "cell_type": "markdown",
   "id": "66ba681d",
   "metadata": {},
   "source": [
    "Understanding the confusion matrix: Let’s take the confusion matrix of the XGBoost model as an example. Look at the first row. The first row is for transactions whose actual fraud value in the test set is 0. As you can calculate, the fraud value of 56861 of them is 0. And out of these 56861 non-fraud transactions, the classifier correctly predicted 56854 of them as 0 and 7 of them as 1. It means, for 56854 non-fraud transactions, the actual churn value was 0 in the test set, and the classifier also correctly predicted those as 0. We can say that our model has classified the non-fraud transactions pretty well.\n",
    "\n",
    "Let’s look at the second row. It looks like there were 101 transactions whose fraud value was 1. The classifier correctly predicted 80 of them as 1, and 21 of them wrongly as 0. The wrongly predicted values can be considered as the error of the model.\n",
    "\n",
    "Like this, while comparing the confusion matrix of all the models, it can be seen that the K-Nearest Neighbors model has performed a very good job of classifying the fraud transactions from the non-fraud transactions followed by the XGBoost model. So we can conclude that the most appropriate model which can be used for our case is the K-Nearest Neighbors model and the model which can be neglected is the Logistic regression model."
   ]
  },
  {
   "cell_type": "markdown",
   "id": "42319e1e",
   "metadata": {},
   "source": [
    "### Conclusion: \n",
    "\n",
    "Credit card fraud detection analysis is an essential component of the modern financial landscape. By leveraging advanced technologies and analytical tools, institutions can proactively identify and prevent fraudulent activities, protecting consumers, preserving the economy, and ensuring the stability of the financial ecosystem. As the threat of credit card fraud continues to evolve, staying vigilant and investing in robust fraud detection measures is crucial for safeguarding the interests of individuals, businesses, and society as a whole."
   ]
  },
  {
   "cell_type": "markdown",
   "id": "02bce27a",
   "metadata": {},
   "source": [
    "### THANK YOU"
   ]
  }
 ],
 "metadata": {
  "kernelspec": {
   "display_name": "Python 3 (ipykernel)",
   "language": "python",
   "name": "python3"
  },
  "language_info": {
   "codemirror_mode": {
    "name": "ipython",
    "version": 3
   },
   "file_extension": ".py",
   "mimetype": "text/x-python",
   "name": "python",
   "nbconvert_exporter": "python",
   "pygments_lexer": "ipython3",
   "version": "3.9.13"
  }
 },
 "nbformat": 4,
 "nbformat_minor": 5
}
