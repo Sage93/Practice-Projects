{
  "nbformat": 4,
  "nbformat_minor": 0,
  "metadata": {
    "colab": {
      "provenance": []
    },
    "kernelspec": {
      "name": "python3",
      "display_name": "Python 3"
    },
    "language_info": {
      "name": "python"
    }
  },
  "cells": [
    {
      "cell_type": "code",
      "source": [
        "x = sub(\"Hello\", 0, 1)"
      ],
      "metadata": {
        "colab": {
          "base_uri": "https://localhost:8080/",
          "height": 218
        },
        "id": "v9mtg_fQUFQ5",
        "outputId": "648c4dd4-d791-4301-c28a-013b87f4007f"
      },
      "execution_count": null,
      "outputs": [
        {
          "output_type": "error",
          "ename": "NameError",
          "evalue": "ignored",
          "traceback": [
            "\u001b[0;31m---------------------------------------------------------------------------\u001b[0m",
            "\u001b[0;31mNameError\u001b[0m                                 Traceback (most recent call last)",
            "\u001b[0;32m<ipython-input-3-a95a99ba3318>\u001b[0m in \u001b[0;36m<module>\u001b[0;34m\u001b[0m\n\u001b[0;32m----> 1\u001b[0;31m \u001b[0mx\u001b[0m \u001b[0;34m=\u001b[0m \u001b[0msub\u001b[0m\u001b[0;34m(\u001b[0m\u001b[0;34m\"Hello\"\u001b[0m\u001b[0;34m,\u001b[0m \u001b[0;36m0\u001b[0m\u001b[0;34m,\u001b[0m \u001b[0;36m1\u001b[0m\u001b[0;34m)\u001b[0m\u001b[0;34m\u001b[0m\u001b[0;34m\u001b[0m\u001b[0m\n\u001b[0m",
            "\u001b[0;31mNameError\u001b[0m: name 'sub' is not defined"
          ]
        }
      ]
    },
    {
      "cell_type": "code",
      "source": [
        "x = \"Hello\"[-1]\n",
        "x"
      ],
      "metadata": {
        "colab": {
          "base_uri": "https://localhost:8080/",
          "height": 36
        },
        "id": "fEjf8z-yUFrX",
        "outputId": "41104f0e-2d6a-4cd4-f9da-6d5c01e4349e"
      },
      "execution_count": null,
      "outputs": [
        {
          "output_type": "execute_result",
          "data": {
            "text/plain": [
              "'o'"
            ],
            "application/vnd.google.colaboratory.intrinsic+json": {
              "type": "string"
            }
          },
          "metadata": {},
          "execution_count": 2
        }
      ]
    },
    {
      "cell_type": "code",
      "source": [
        "x = \"Hello\".sub(0,1)"
      ],
      "metadata": {
        "colab": {
          "base_uri": "https://localhost:8080/",
          "height": 165
        },
        "id": "rj2tmUnUUF2y",
        "outputId": "fd54a62b-4c64-45fb-930e-4a03dd6ded45"
      },
      "execution_count": null,
      "outputs": [
        {
          "output_type": "error",
          "ename": "AttributeError",
          "evalue": "ignored",
          "traceback": [
            "\u001b[0;31m---------------------------------------------------------------------------\u001b[0m",
            "\u001b[0;31mAttributeError\u001b[0m                            Traceback (most recent call last)",
            "\u001b[0;32m<ipython-input-5-c015f4001c05>\u001b[0m in \u001b[0;36m<module>\u001b[0;34m\u001b[0m\n\u001b[0;32m----> 1\u001b[0;31m \u001b[0mx\u001b[0m \u001b[0;34m=\u001b[0m \u001b[0;34m\"Hello\"\u001b[0m\u001b[0;34m.\u001b[0m\u001b[0msub\u001b[0m\u001b[0;34m(\u001b[0m\u001b[0;36m0\u001b[0m\u001b[0;34m,\u001b[0m\u001b[0;36m1\u001b[0m\u001b[0;34m)\u001b[0m\u001b[0;34m\u001b[0m\u001b[0;34m\u001b[0m\u001b[0m\n\u001b[0m",
            "\u001b[0;31mAttributeError\u001b[0m: 'str' object has no attribute 'sub'"
          ]
        }
      ]
    },
    {
      "cell_type": "code",
      "source": [
        "# Sum of a list using for loop\n",
        "\n",
        "a = [1,2,3,4,5]\n",
        "sum = 0\n",
        "for i in a:\n",
        "  sum += i\n",
        "print(sum)"
      ],
      "metadata": {
        "colab": {
          "base_uri": "https://localhost:8080/"
        },
        "id": "vFGg10hRd-aN",
        "outputId": "8969335c-d0d0-4d5c-f6b6-dd5b06759142"
      },
      "execution_count": 5,
      "outputs": [
        {
          "output_type": "stream",
          "name": "stdout",
          "text": [
            "15\n"
          ]
        }
      ]
    },
    {
      "cell_type": "code",
      "source": [
        "# Sum of a list using while loop\n",
        "\n",
        "a = [5,4,2,8,1,25]\n",
        "sum = 0\n",
        "i = 0\n",
        "while i < len(a):\n",
        "  sum += a[i]\n",
        "  i += 1\n",
        "print(sum)  "
      ],
      "metadata": {
        "colab": {
          "base_uri": "https://localhost:8080/"
        },
        "id": "XHX7wjK6mrED",
        "outputId": "a4f33496-013f-46d8-d37e-62fc4aa4acd3"
      },
      "execution_count": null,
      "outputs": [
        {
          "output_type": "stream",
          "name": "stdout",
          "text": [
            "45\n"
          ]
        }
      ]
    },
    {
      "cell_type": "code",
      "source": [
        "# Reverse a list\n",
        "\n",
        "a = [1,2,3,4,5]\n",
        "rev = []\n",
        "for i in a:\n",
        "  rev = [i] + rev\n",
        "print(rev)"
      ],
      "metadata": {
        "colab": {
          "base_uri": "https://localhost:8080/"
        },
        "id": "MBclXJ9IbZ7R",
        "outputId": "9fb5be45-60e3-490c-a2de-7a8c81b1c3b2"
      },
      "execution_count": null,
      "outputs": [
        {
          "output_type": "stream",
          "name": "stdout",
          "text": [
            "[5, 4, 3, 2, 1]\n"
          ]
        }
      ]
    },
    {
      "cell_type": "code",
      "source": [
        "# Reverse a given string\n",
        "\n",
        "num = 'sagar'\n",
        "rev = ''\n",
        "for i in num:\n",
        "  rev = i + rev\n",
        "print(rev)"
      ],
      "metadata": {
        "colab": {
          "base_uri": "https://localhost:8080/"
        },
        "id": "y9Kpd-UdjpcH",
        "outputId": "2272f04a-0708-4231-f616-98ed7c9678cb"
      },
      "execution_count": null,
      "outputs": [
        {
          "output_type": "stream",
          "name": "stdout",
          "text": [
            "ragas\n"
          ]
        }
      ]
    },
    {
      "cell_type": "code",
      "source": [
        "# Reverse a given mumber\n",
        "\n",
        "num = 9819292\n",
        "digit = 0\n",
        "rev = 0\n",
        "while num > 0:\n",
        "  digit = num % 10\n",
        "  num //= 10\n",
        "  rev = digit + rev*10\n",
        "print(rev)"
      ],
      "metadata": {
        "colab": {
          "base_uri": "https://localhost:8080/"
        },
        "id": "poa_Vwzjkf9t",
        "outputId": "cbc9ed8f-e8d3-4f29-bb7b-11b36186af2c"
      },
      "execution_count": 28,
      "outputs": [
        {
          "output_type": "stream",
          "name": "stdout",
          "text": [
            "2929189\n"
          ]
        }
      ]
    },
    {
      "cell_type": "code",
      "source": [
        "a = 12345\n",
        "rev = 0\n",
        "while a > 0:\n",
        "  rev = a%10\n",
        "  a//= 10\n",
        "  print(rev, end = '')"
      ],
      "metadata": {
        "colab": {
          "base_uri": "https://localhost:8080/"
        },
        "id": "-3PUq7SUh3nQ",
        "outputId": "e3541904-2ca6-4b80-84c9-e863cd116e8b"
      },
      "execution_count": 22,
      "outputs": [
        {
          "output_type": "stream",
          "name": "stdout",
          "text": [
            "54321"
          ]
        }
      ]
    },
    {
      "cell_type": "code",
      "source": [
        "# Count digits in a number\n",
        "\n",
        "num = 1993\n",
        "count = 0\n",
        "while num > 0:\n",
        "    num //= 10\n",
        "    count += 1\n",
        "print(count)"
      ],
      "metadata": {
        "colab": {
          "base_uri": "https://localhost:8080/"
        },
        "id": "LZOfv1QtUGLr",
        "outputId": "1f12ba21-aa11-4558-e3f5-a2f0d5ee7624"
      },
      "execution_count": null,
      "outputs": [
        {
          "output_type": "stream",
          "name": "stdout",
          "text": [
            "4\n"
          ]
        }
      ]
    },
    {
      "cell_type": "code",
      "source": [
        "# count odd numbers in a given number\n",
        "\n",
        "num = 16566818\n",
        "digit = 0\n",
        "count = 0\n",
        "while num > 0:\n",
        "  digit = num % 10\n",
        "  num //= 10\n",
        "  if digit % 2 == 1:\n",
        "    count += 1\n",
        "print(count)"
      ],
      "metadata": {
        "colab": {
          "base_uri": "https://localhost:8080/"
        },
        "id": "_IwRVIFrebq7",
        "outputId": "89b3663a-b3d6-4031-9e31-d90c27359eda"
      },
      "execution_count": 34,
      "outputs": [
        {
          "output_type": "stream",
          "name": "stdout",
          "text": [
            "3\n"
          ]
        }
      ]
    },
    {
      "cell_type": "code",
      "source": [
        "# Highest digit in a number\n",
        "\n",
        "num = 1681936598\n",
        "digit = 0\n",
        "temp = 0\n",
        "while num > 0:\n",
        "  digit = num % 10\n",
        "  num //= 10\n",
        "  if digit > temp:\n",
        "      temp = digit\n",
        "print(temp)"
      ],
      "metadata": {
        "colab": {
          "base_uri": "https://localhost:8080/"
        },
        "id": "wve4pKRdiUxt",
        "outputId": "36134bc4-d6e8-4fbf-e0ec-f5861901500c"
      },
      "execution_count": null,
      "outputs": [
        {
          "output_type": "stream",
          "name": "stdout",
          "text": [
            "9\n"
          ]
        }
      ]
    },
    {
      "cell_type": "code",
      "source": [
        "# sum of numbers using default parameter in function\n",
        "\n",
        "def sum(a,b,c=2,d=5):\n",
        "  return a+b+c+d\n",
        "a = int(input())\n",
        "b = int(input())\n",
        "sum(a,b)"
      ],
      "metadata": {
        "colab": {
          "base_uri": "https://localhost:8080/"
        },
        "id": "w7R-JVFuhNcu",
        "outputId": "901a5c8a-6045-48fa-9c3c-c19b41b5d0f3"
      },
      "execution_count": null,
      "outputs": [
        {
          "name": "stdout",
          "output_type": "stream",
          "text": [
            "5\n",
            "2\n"
          ]
        },
        {
          "output_type": "execute_result",
          "data": {
            "text/plain": [
              "14"
            ]
          },
          "metadata": {},
          "execution_count": 25
        }
      ]
    },
    {
      "cell_type": "code",
      "source": [
        "# Insert element in a list\n",
        "\n",
        "a = [5,4,2,8,6,1]\n",
        "a.insert(2,44)\n",
        "a"
      ],
      "metadata": {
        "colab": {
          "base_uri": "https://localhost:8080/"
        },
        "id": "hti00qZNhyLh",
        "outputId": "4ef0f6ab-0249-451a-e616-366f4e1c466b"
      },
      "execution_count": null,
      "outputs": [
        {
          "output_type": "execute_result",
          "data": {
            "text/plain": [
              "[5, 4, 44, 2, 8, 6, 1]"
            ]
          },
          "metadata": {},
          "execution_count": 35
        }
      ]
    },
    {
      "cell_type": "code",
      "source": [
        "# Sum of num till hit -1\n",
        "\n",
        "sum = 0\n",
        "while num != -1:\n",
        "  num = int(input())\n",
        "  sum = sum + num\n",
        "print(sum+1)"
      ],
      "metadata": {
        "colab": {
          "base_uri": "https://localhost:8080/"
        },
        "id": "nuXgYjmSjiue",
        "outputId": "255edc6e-c07e-4ba0-9deb-1508c6d0346c"
      },
      "execution_count": null,
      "outputs": [
        {
          "output_type": "stream",
          "name": "stdout",
          "text": [
            "2\n",
            "4\n",
            "4\n",
            "-1\n",
            "10\n"
          ]
        }
      ]
    },
    {
      "cell_type": "code",
      "source": [
        "# Find greatest of the numbers in a list\n",
        "\n",
        "import functools\n",
        "num = [4,8,5,7,9,2,4]\n",
        "greatest = functools.reduce(lambda a,b : a if a>b else b, num)\n",
        "print(greatest)"
      ],
      "metadata": {
        "colab": {
          "base_uri": "https://localhost:8080/"
        },
        "id": "6BacT_i7ggaq",
        "outputId": "1d508733-69dd-42eb-f63b-3696d865e99e"
      },
      "execution_count": null,
      "outputs": [
        {
          "output_type": "stream",
          "name": "stdout",
          "text": [
            "9\n"
          ]
        }
      ]
    },
    {
      "cell_type": "code",
      "source": [
        "# Filter even numbers in a list\n",
        "\n",
        "a = [5,2,3,8,3,4,6]\n",
        "print(list(filter(lambda x: x%2 == 0, a)))"
      ],
      "metadata": {
        "id": "yRoT0iEGjixw",
        "colab": {
          "base_uri": "https://localhost:8080/",
          "height": 200
        },
        "outputId": "43cba065-86bf-4376-da18-16d96fcc6326"
      },
      "execution_count": 66,
      "outputs": [
        {
          "output_type": "error",
          "ename": "TypeError",
          "evalue": "ignored",
          "traceback": [
            "\u001b[0;31m---------------------------------------------------------------------------\u001b[0m",
            "\u001b[0;31mTypeError\u001b[0m                                 Traceback (most recent call last)",
            "\u001b[0;32m<ipython-input-66-b9e6562b1d83>\u001b[0m in \u001b[0;36m<cell line: 4>\u001b[0;34m()\u001b[0m\n\u001b[1;32m      2\u001b[0m \u001b[0;34m\u001b[0m\u001b[0m\n\u001b[1;32m      3\u001b[0m \u001b[0ma\u001b[0m \u001b[0;34m=\u001b[0m \u001b[0;34m[\u001b[0m\u001b[0;36m5\u001b[0m\u001b[0;34m,\u001b[0m\u001b[0;36m2\u001b[0m\u001b[0;34m,\u001b[0m\u001b[0;36m3\u001b[0m\u001b[0;34m,\u001b[0m\u001b[0;36m8\u001b[0m\u001b[0;34m,\u001b[0m\u001b[0;36m3\u001b[0m\u001b[0;34m,\u001b[0m\u001b[0;36m4\u001b[0m\u001b[0;34m,\u001b[0m\u001b[0;36m6\u001b[0m\u001b[0;34m]\u001b[0m\u001b[0;34m\u001b[0m\u001b[0;34m\u001b[0m\u001b[0m\n\u001b[0;32m----> 4\u001b[0;31m \u001b[0mprint\u001b[0m\u001b[0;34m(\u001b[0m\u001b[0mlist\u001b[0m\u001b[0;34m(\u001b[0m\u001b[0mfilter\u001b[0m\u001b[0;34m(\u001b[0m\u001b[0;32mlambda\u001b[0m \u001b[0mx\u001b[0m\u001b[0;34m:\u001b[0m \u001b[0mx\u001b[0m\u001b[0;34m%\u001b[0m\u001b[0;36m2\u001b[0m \u001b[0;34m==\u001b[0m \u001b[0;36m0\u001b[0m\u001b[0;34m,\u001b[0m \u001b[0ma\u001b[0m\u001b[0;34m)\u001b[0m\u001b[0;34m)\u001b[0m\u001b[0;34m)\u001b[0m\u001b[0;34m\u001b[0m\u001b[0;34m\u001b[0m\u001b[0m\n\u001b[0m",
            "\u001b[0;31mTypeError\u001b[0m: 'list' object is not callable"
          ]
        }
      ]
    },
    {
      "cell_type": "code",
      "source": [
        "l = [1,5,7,4,5,6,2]\n",
        "a = list(filter(lambda x: x%2 == 0, l))"
      ],
      "metadata": {
        "colab": {
          "base_uri": "https://localhost:8080/",
          "height": 200
        },
        "id": "5SLsqUooyQpJ",
        "outputId": "d059c7cc-cc2a-44d3-eca1-7b95f67e4889"
      },
      "execution_count": 64,
      "outputs": [
        {
          "output_type": "error",
          "ename": "TypeError",
          "evalue": "ignored",
          "traceback": [
            "\u001b[0;31m---------------------------------------------------------------------------\u001b[0m",
            "\u001b[0;31mTypeError\u001b[0m                                 Traceback (most recent call last)",
            "\u001b[0;32m<ipython-input-64-32918126f030>\u001b[0m in \u001b[0;36m<cell line: 2>\u001b[0;34m()\u001b[0m\n\u001b[1;32m      1\u001b[0m \u001b[0ml\u001b[0m \u001b[0;34m=\u001b[0m \u001b[0;34m[\u001b[0m\u001b[0;36m1\u001b[0m\u001b[0;34m,\u001b[0m\u001b[0;36m5\u001b[0m\u001b[0;34m,\u001b[0m\u001b[0;36m7\u001b[0m\u001b[0;34m,\u001b[0m\u001b[0;36m4\u001b[0m\u001b[0;34m,\u001b[0m\u001b[0;36m5\u001b[0m\u001b[0;34m,\u001b[0m\u001b[0;36m6\u001b[0m\u001b[0;34m,\u001b[0m\u001b[0;36m2\u001b[0m\u001b[0;34m]\u001b[0m\u001b[0;34m\u001b[0m\u001b[0;34m\u001b[0m\u001b[0m\n\u001b[0;32m----> 2\u001b[0;31m \u001b[0ma\u001b[0m \u001b[0;34m=\u001b[0m \u001b[0mlist\u001b[0m\u001b[0;34m(\u001b[0m\u001b[0mfilter\u001b[0m\u001b[0;34m(\u001b[0m\u001b[0;32mlambda\u001b[0m \u001b[0mx\u001b[0m\u001b[0;34m:\u001b[0m \u001b[0mx\u001b[0m\u001b[0;34m%\u001b[0m\u001b[0;36m2\u001b[0m \u001b[0;34m==\u001b[0m \u001b[0;36m0\u001b[0m\u001b[0;34m,\u001b[0m \u001b[0ml\u001b[0m\u001b[0;34m)\u001b[0m\u001b[0;34m)\u001b[0m\u001b[0;34m\u001b[0m\u001b[0;34m\u001b[0m\u001b[0m\n\u001b[0m\u001b[1;32m      3\u001b[0m \u001b[0mprint\u001b[0m\u001b[0;34m(\u001b[0m\u001b[0ma\u001b[0m\u001b[0;34m)\u001b[0m\u001b[0;34m\u001b[0m\u001b[0;34m\u001b[0m\u001b[0m\n",
            "\u001b[0;31mTypeError\u001b[0m: 'list' object is not callable"
          ]
        }
      ]
    },
    {
      "cell_type": "code",
      "source": [
        "# Find factorial of a number\n",
        "\n",
        "num = int(input())\n",
        "fact = 1\n",
        "while num > 0:\n",
        "  fact *= num\n",
        "  num -= 1\n",
        "print(fact)"
      ],
      "metadata": {
        "id": "FvEB_INuji1p",
        "colab": {
          "base_uri": "https://localhost:8080/"
        },
        "outputId": "4994f85c-48cd-4634-ab38-31e5120d7c15"
      },
      "execution_count": null,
      "outputs": [
        {
          "output_type": "stream",
          "name": "stdout",
          "text": [
            "5\n",
            "120\n"
          ]
        }
      ]
    },
    {
      "cell_type": "code",
      "source": [
        "# Count letters in a string\n",
        "\n",
        "a = 'elephant'\n",
        "b = {}\n",
        "for i in a:\n",
        "  if i in b:\n",
        "    b[i] += 1\n",
        "  else:\n",
        "    b[i] = 1\n",
        "print(b)"
      ],
      "metadata": {
        "id": "XlLg3eofjjE9",
        "colab": {
          "base_uri": "https://localhost:8080/"
        },
        "outputId": "a8fbc019-b028-47b9-fb7d-3b02ba3aec93"
      },
      "execution_count": null,
      "outputs": [
        {
          "output_type": "stream",
          "name": "stdout",
          "text": [
            "{'e': 2, 'l': 1, 'p': 1, 'h': 1, 'a': 1, 'n': 1, 't': 1}\n"
          ]
        }
      ]
    },
    {
      "cell_type": "code",
      "source": [
        "# Print number with its square from 1 to 10\n",
        "\n",
        "a = {}\n",
        "for i in range(1,11):\n",
        "  a[i] = i**2\n",
        "print(a)"
      ],
      "metadata": {
        "id": "kH7XlqhrmRVV",
        "colab": {
          "base_uri": "https://localhost:8080/"
        },
        "outputId": "12e0d4ff-bce9-4207-eec8-e5a1c9a2a5df"
      },
      "execution_count": null,
      "outputs": [
        {
          "output_type": "stream",
          "name": "stdout",
          "text": [
            "{1: 1, 2: 4, 3: 9, 4: 16, 5: 25, 6: 36, 7: 49, 8: 64, 9: 81, 10: 100}\n"
          ]
        }
      ]
    },
    {
      "cell_type": "code",
      "source": [
        "# Print square of numbers in a list\n",
        "\n",
        "a = [1,2,3,4,5]\n",
        "for i in range(len(a)):\n",
        "  a[i] = a[i]**2\n",
        "print(a)"
      ],
      "metadata": {
        "id": "NyJJOUf3mRZD",
        "colab": {
          "base_uri": "https://localhost:8080/"
        },
        "outputId": "7e2b233e-93d5-4e38-d817-71533f5514de"
      },
      "execution_count": null,
      "outputs": [
        {
          "output_type": "stream",
          "name": "stdout",
          "text": [
            "[1, 4, 9, 16, 25]\n"
          ]
        }
      ]
    },
    {
      "cell_type": "code",
      "source": [
        "# Combine 2 sets into list\n",
        "\n",
        "a = {\"as\", \"df\", \"asd\"}\n",
        "b = {\"12\", \"54\", \"frg\"}\n",
        "list(zip(a,b))"
      ],
      "metadata": {
        "id": "i4p6AhG3mRcp",
        "colab": {
          "base_uri": "https://localhost:8080/"
        },
        "outputId": "7e5b91e3-fc18-45d6-b345-607831b3f60d"
      },
      "execution_count": null,
      "outputs": [
        {
          "output_type": "execute_result",
          "data": {
            "text/plain": [
              "[('df', 'frg'), ('asd', '54'), ('as', '12')]"
            ]
          },
          "metadata": {},
          "execution_count": 10
        }
      ]
    },
    {
      "cell_type": "code",
      "source": [
        "# Combine 2 lists into dictionary\n",
        "\n",
        "a = [\"as\", \"df\", \"asd\"]\n",
        "b = [\"12\", \"54\", \"frg\", \"ss\"]\n",
        "d = {}\n",
        "for i,j in zip(a,b):\n",
        "  d[i] = j\n",
        "d"
      ],
      "metadata": {
        "id": "se_aiRR1mRfz",
        "colab": {
          "base_uri": "https://localhost:8080/"
        },
        "outputId": "dbc294bf-281b-4af7-b9f5-24a788f432f2"
      },
      "execution_count": null,
      "outputs": [
        {
          "output_type": "execute_result",
          "data": {
            "text/plain": [
              "{'as': '12', 'df': '54', 'asd': 'frg'}"
            ]
          },
          "metadata": {},
          "execution_count": 32
        }
      ]
    },
    {
      "cell_type": "code",
      "source": [
        "# Define a function to find number is even or odd\n",
        "\n",
        "def num(a):\n",
        "  if a % 2 == 0:\n",
        "    return \"Even\"\n",
        "  else:\n",
        "    return \"Odd\"\n",
        "num(13)"
      ],
      "metadata": {
        "id": "CXPPaihjmRjL",
        "colab": {
          "base_uri": "https://localhost:8080/",
          "height": 36
        },
        "outputId": "cf196e36-9338-4949-fbbf-6cd328adb1af"
      },
      "execution_count": null,
      "outputs": [
        {
          "output_type": "execute_result",
          "data": {
            "text/plain": [
              "'Odd'"
            ],
            "application/vnd.google.colaboratory.intrinsic+json": {
              "type": "string"
            }
          },
          "metadata": {},
          "execution_count": 21
        }
      ]
    },
    {
      "cell_type": "code",
      "source": [
        "# Rotate a set of numbers separated by space by times specified.\n",
        "\n",
        "a = input(\"Enter numbers separated by space: \")\n",
        "b = int(input(\"Enter no.of rotations: \"))\n",
        "a = a.split()\n",
        "for i in range(b):\n",
        "  a.insert(0, a.pop())\n",
        "for i in a:\n",
        "  print(i, end = \" \")"
      ],
      "metadata": {
        "id": "jJXMROMGmRlf",
        "colab": {
          "base_uri": "https://localhost:8080/"
        },
        "outputId": "b9efac26-85f3-4643-e5c5-efd145139f2d"
      },
      "execution_count": null,
      "outputs": [
        {
          "output_type": "stream",
          "name": "stdout",
          "text": [
            "Enter numbers separated by space: 1 2 3 4 5\n",
            "Enter no.of rtations: 3\n",
            "3 4 5 1 2 "
          ]
        }
      ]
    },
    {
      "cell_type": "code",
      "source": [
        "# Find mean of a given list of numbers\n",
        "\n",
        "a = [1,3,5,6,8,7]\n",
        "sum = 0\n",
        "for i in a:\n",
        "  sum += i\n",
        "print(\"Mean = \", sum/len(a))"
      ],
      "metadata": {
        "id": "d2Xby-TlmRoq",
        "colab": {
          "base_uri": "https://localhost:8080/"
        },
        "outputId": "29168fe2-66fd-4225-ed1e-e5c4dd33f706"
      },
      "execution_count": null,
      "outputs": [
        {
          "output_type": "stream",
          "name": "stdout",
          "text": [
            "Mean =  5.0\n"
          ]
        }
      ]
    },
    {
      "cell_type": "code",
      "source": [
        "# List out 10 random numbers btwn 10 and 100\n",
        "\n",
        "import random\n",
        "a = [random.randint(10,100) for i in range(10)]\n",
        "a"
      ],
      "metadata": {
        "id": "4jU8llVzmR5-",
        "colab": {
          "base_uri": "https://localhost:8080/"
        },
        "outputId": "2b0367ad-146c-44b2-d82c-4ec98ca04ee0"
      },
      "execution_count": null,
      "outputs": [
        {
          "output_type": "execute_result",
          "data": {
            "text/plain": [
              "[93, 88, 41, 72, 37, 89, 25, 53, 92, 74]"
            ]
          },
          "metadata": {},
          "execution_count": 6
        }
      ]
    },
    {
      "cell_type": "code",
      "source": [
        "# Sum of values in a dictionary\n",
        "\n",
        "a = {'apple':25, 'mango':20,'orange':100}\n",
        "sum = 0\n",
        "for i in a.values():\n",
        "  sum += i\n",
        "print(sum)"
      ],
      "metadata": {
        "id": "KUes6KOxmR8k",
        "colab": {
          "base_uri": "https://localhost:8080/"
        },
        "outputId": "3da77557-fb2d-4c41-b570-996a6332685c"
      },
      "execution_count": null,
      "outputs": [
        {
          "output_type": "stream",
          "name": "stdout",
          "text": [
            "145\n"
          ]
        }
      ]
    },
    {
      "cell_type": "code",
      "source": [
        "# Print only string before @\n",
        "a = 'sftvhhsfggsg@@@$$$_#__'\n",
        "print(a.split('@')[0])"
      ],
      "metadata": {
        "id": "UtleZ-oZjjIe",
        "colab": {
          "base_uri": "https://localhost:8080/"
        },
        "outputId": "f618421e-d23c-4a4e-ac39-1d78fe153825"
      },
      "execution_count": null,
      "outputs": [
        {
          "output_type": "stream",
          "name": "stdout",
          "text": [
            "sftvhhsfggsg\n"
          ]
        }
      ]
    },
    {
      "cell_type": "code",
      "source": [
        "# Regular expression\n",
        "\n",
        "import re"
      ],
      "metadata": {
        "id": "Zqy-Eo0HqHMl"
      },
      "execution_count": null,
      "outputs": []
    },
    {
      "cell_type": "code",
      "source": [
        "DS17 = \"DS17, is in the fourth week of Python\"\n",
        "print(re.findall(\"[Z]\", DS17))\n",
        "print(re.findall(\"[^A-Z]\", DS17))"
      ],
      "metadata": {
        "colab": {
          "base_uri": "https://localhost:8080/"
        },
        "id": "EQlFNAipIhuk",
        "outputId": "0576e07e-e0ee-4c9c-d446-e6b05388bb2f"
      },
      "execution_count": null,
      "outputs": [
        {
          "output_type": "stream",
          "name": "stdout",
          "text": [
            "[]\n",
            "['1', '7', ',', ' ', 'i', 's', ' ', 'i', 'n', ' ', 't', 'h', 'e', ' ', 'f', 'o', 'u', 'r', 't', 'h', ' ', 'w', 'e', 'e', 'k', ' ', 'o', 'f', ' ', 'y', 't', 'h', 'o', 'n']\n"
          ]
        }
      ]
    },
    {
      "cell_type": "code",
      "source": [
        "#  Factorial of a number using recursion\n",
        "\n",
        "def rec(n):\n",
        "  if n == 1:\n",
        "    return 1\n",
        "  else:\n",
        "    return n * rec(n-1)\n",
        "rec(5)"
      ],
      "metadata": {
        "id": "w2laHQqQIhxz",
        "colab": {
          "base_uri": "https://localhost:8080/"
        },
        "outputId": "9af354b9-625c-4e4f-a08b-848766f9fd4b"
      },
      "execution_count": null,
      "outputs": [
        {
          "output_type": "execute_result",
          "data": {
            "text/plain": [
              "120"
            ]
          },
          "metadata": {},
          "execution_count": 9
        }
      ]
    },
    {
      "cell_type": "code",
      "source": [
        "# Create 1D array using 0s and 1s\n",
        "\n",
        "import numpy as np\n",
        "a = np.ones(5)\n",
        "b = np.zeros(4)\n",
        "print(a)\n",
        "print(b)"
      ],
      "metadata": {
        "id": "D-1cx7huIh1i",
        "colab": {
          "base_uri": "https://localhost:8080/"
        },
        "outputId": "86f5ea77-f557-4023-ebe0-1d89a3035af9"
      },
      "execution_count": null,
      "outputs": [
        {
          "output_type": "stream",
          "name": "stdout",
          "text": [
            "[1. 1. 1. 1. 1.]\n",
            "[0. 0. 0. 0.]\n"
          ]
        }
      ]
    },
    {
      "cell_type": "code",
      "source": [
        "# Create a matrix of 5 x 3 \n",
        "\n",
        "np.random.randint(10,70,15).reshape(5,3)"
      ],
      "metadata": {
        "id": "N-BSEsjVIh4T",
        "colab": {
          "base_uri": "https://localhost:8080/"
        },
        "outputId": "09e94a5f-589d-48f7-f273-86123231258b"
      },
      "execution_count": null,
      "outputs": [
        {
          "output_type": "execute_result",
          "data": {
            "text/plain": [
              "array([[47, 34, 44],\n",
              "       [63, 38, 46],\n",
              "       [32, 65, 21],\n",
              "       [66, 18, 61],\n",
              "       [42, 35, 26]])"
            ]
          },
          "metadata": {},
          "execution_count": 11
        }
      ]
    },
    {
      "cell_type": "code",
      "source": [
        "# Use lambda to add 100 to ant numberpassed as an argument\n",
        "\n",
        "a = lambda x : x+100\n",
        "a(100)"
      ],
      "metadata": {
        "id": "6LiS-w5SIh73",
        "colab": {
          "base_uri": "https://localhost:8080/"
        },
        "outputId": "ca897e42-2f5e-4aa4-c1f5-55ebaaad7586"
      },
      "execution_count": null,
      "outputs": [
        {
          "output_type": "execute_result",
          "data": {
            "text/plain": [
              "200"
            ]
          },
          "metadata": {},
          "execution_count": 10
        }
      ]
    },
    {
      "cell_type": "code",
      "source": [
        "# Lambda function to return min of 2 elements\n",
        "\n",
        "import functools\n",
        "l = [10,20,35,100,25,31,200]\n",
        "ret = functools.reduce(lambda x,y : x if x<y else y, l)\n",
        "ret"
      ],
      "metadata": {
        "id": "eYUiuMzMIh-v",
        "colab": {
          "base_uri": "https://localhost:8080/"
        },
        "outputId": "739008c9-2a8a-4f0d-fc8b-0cd0653a1570"
      },
      "execution_count": null,
      "outputs": [
        {
          "output_type": "execute_result",
          "data": {
            "text/plain": [
              "10"
            ]
          },
          "metadata": {},
          "execution_count": 11
        }
      ]
    },
    {
      "cell_type": "code",
      "source": [
        "# WAP to multiply all elements in a tuple using lambda\n",
        "\n",
        "my_tuple = (9,5,3)\n",
        "import functools\n",
        "ret = functools.reduce(lambda x,y : x*y, my_tuple)\n",
        "ret"
      ],
      "metadata": {
        "id": "xRu7kHSCIiBr",
        "colab": {
          "base_uri": "https://localhost:8080/"
        },
        "outputId": "699c3b2f-2fc5-47bf-b073-00703bcb64c6"
      },
      "execution_count": null,
      "outputs": [
        {
          "output_type": "execute_result",
          "data": {
            "text/plain": [
              "135"
            ]
          },
          "metadata": {},
          "execution_count": 12
        }
      ]
    },
    {
      "cell_type": "code",
      "source": [
        "# WAP to triple all numbers in a list\n",
        "l = [2,5,8,9,6]\n",
        "a = []\n",
        "for i in l:\n",
        "  a.append(i*3)\n",
        "print(a)"
      ],
      "metadata": {
        "id": "TxHW0Ag5IiFI",
        "colab": {
          "base_uri": "https://localhost:8080/"
        },
        "outputId": "641fd1ed-d871-496d-a40c-d71d79a5b332"
      },
      "execution_count": null,
      "outputs": [
        {
          "output_type": "stream",
          "name": "stdout",
          "text": [
            "[6, 15, 24, 27, 18]\n"
          ]
        }
      ]
    },
    {
      "cell_type": "code",
      "source": [
        "# OR\n",
        "\n",
        "print(list(map(lambda x : x+x+x, l)))"
      ],
      "metadata": {
        "id": "DUe_dhKOIiIh",
        "colab": {
          "base_uri": "https://localhost:8080/"
        },
        "outputId": "3d358eef-7b26-44a1-c0be-d420ddae794d"
      },
      "execution_count": null,
      "outputs": [
        {
          "output_type": "stream",
          "name": "stdout",
          "text": [
            "[6, 15, 24, 27, 18]\n"
          ]
        }
      ]
    },
    {
      "cell_type": "code",
      "source": [
        "# WAP to remove all occurances of 10 from a list of numbers\n",
        "a = [10,20,5,10,3,4,6]\n",
        "print(list(filter(lambda x : x!=10, a)))"
      ],
      "metadata": {
        "id": "o-bx1HrEqHQL",
        "colab": {
          "base_uri": "https://localhost:8080/"
        },
        "outputId": "cd926a11-8b26-4ff9-9df1-d6fed4a30500"
      },
      "execution_count": null,
      "outputs": [
        {
          "output_type": "stream",
          "name": "stdout",
          "text": [
            "[20, 5, 3, 4, 6]\n"
          ]
        }
      ]
    },
    {
      "cell_type": "code",
      "source": [
        "# WAP to convert list of words to upercase using lambda\n",
        "\n",
        "a = [\"apple\", \"mango\", \"orange\"]\n",
        "print(list(map(lambda x : x.upper(), a)))"
      ],
      "metadata": {
        "id": "VsEIfMrEqHUZ",
        "colab": {
          "base_uri": "https://localhost:8080/"
        },
        "outputId": "ed2de8da-3748-421b-dfd8-c9ecc97da720"
      },
      "execution_count": null,
      "outputs": [
        {
          "output_type": "stream",
          "name": "stdout",
          "text": [
            "['APPLE', 'MANGO', 'ORANGE']\n"
          ]
        }
      ]
    },
    {
      "cell_type": "code",
      "source": [
        "# WAP to find LCM of 2 numbers recursively\n",
        "\n",
        "def hcf(a,b):\n",
        "  if b == 0:\n",
        "    return a\n",
        "  else:\n",
        "    return hcf(b, a%b)\n",
        "\n",
        "def lcm(a,b):\n",
        "  return (a*b)//hcf(a,b)\n",
        "\n",
        "first = int(input())\n",
        "second = int(input())\n",
        "\n",
        "print(\"LCM of\", first, \"and\", second, \"is\", lcm(first, second))"
      ],
      "metadata": {
        "id": "JrEtkDhfjjOo",
        "colab": {
          "base_uri": "https://localhost:8080/"
        },
        "outputId": "a7a1c23e-b4cb-4c7e-a440-14d92682d61d"
      },
      "execution_count": null,
      "outputs": [
        {
          "output_type": "stream",
          "name": "stdout",
          "text": [
            "2\n",
            "3\n",
            "LCM of 2 and 3 is 6\n"
          ]
        }
      ]
    },
    {
      "cell_type": "code",
      "source": [
        "# WAP to listify the list of given strings individually using map\n",
        "\n",
        "colour = [\"Red\",\"Blue\",\"Black\",\"White\",\"Pink\"]\n",
        "print(list(map(list, colour)))"
      ],
      "metadata": {
        "colab": {
          "base_uri": "https://localhost:8080/"
        },
        "id": "q5Y-MNuUmQwF",
        "outputId": "cc0fd259-500a-4f28-a91b-c603fc26b47f"
      },
      "execution_count": null,
      "outputs": [
        {
          "output_type": "stream",
          "name": "stdout",
          "text": [
            "[['R', 'e', 'd'], ['B', 'l', 'u', 'e'], ['B', 'l', 'a', 'c', 'k'], ['W', 'h', 'i', 't', 'e'], ['P', 'i', 'n', 'k']]\n"
          ]
        }
      ]
    },
    {
      "cell_type": "code",
      "source": [
        "# WAP to create a 8x8 matrix in checkerboard pattern\n",
        "\n",
        "import numpy as np\n",
        "x = np.ones((3,3))\n",
        "print(\"Checkerboard pattern: \")\n",
        "x = np.zeros((8,8),dtype = int)\n",
        "x[1::2,::2]=1\n",
        "x[::2,1::2]=1\n",
        "print(x)"
      ],
      "metadata": {
        "colab": {
          "base_uri": "https://localhost:8080/"
        },
        "id": "IIXy1_ozmQ0F",
        "outputId": "7ba6bbb1-5702-481b-c949-162f03d999ce"
      },
      "execution_count": null,
      "outputs": [
        {
          "output_type": "stream",
          "name": "stdout",
          "text": [
            "Checkerboard pattern: \n",
            "[[0 1 0 1 0 1 0 1]\n",
            " [1 0 1 0 1 0 1 0]\n",
            " [0 1 0 1 0 1 0 1]\n",
            " [1 0 1 0 1 0 1 0]\n",
            " [0 1 0 1 0 1 0 1]\n",
            " [1 0 1 0 1 0 1 0]\n",
            " [0 1 0 1 0 1 0 1]\n",
            " [1 0 1 0 1 0 1 0]]\n"
          ]
        }
      ]
    },
    {
      "cell_type": "code",
      "source": [
        "# Create a 2D array with 1 on the border and 0 inside\n",
        "\n",
        "import numpy as np\n",
        "x = np.ones((5,5))\n",
        "print(x)\n",
        "x[1:-1,1:-1]=0\n",
        "print(\"\\n\",x)"
      ],
      "metadata": {
        "colab": {
          "base_uri": "https://localhost:8080/"
        },
        "id": "QexVVJhImQ3O",
        "outputId": "afa22ffc-51eb-4d31-eee4-9b7ed0b5cd12"
      },
      "execution_count": null,
      "outputs": [
        {
          "output_type": "stream",
          "name": "stdout",
          "text": [
            "[[1. 1. 1. 1. 1.]\n",
            " [1. 1. 1. 1. 1.]\n",
            " [1. 1. 1. 1. 1.]\n",
            " [1. 1. 1. 1. 1.]\n",
            " [1. 1. 1. 1. 1.]]\n",
            "\n",
            " [[1. 1. 1. 1. 1.]\n",
            " [1. 0. 0. 0. 1.]\n",
            " [1. 0. 0. 0. 1.]\n",
            " [1. 0. 0. 0. 1.]\n",
            " [1. 1. 1. 1. 1.]]\n"
          ]
        }
      ]
    },
    {
      "cell_type": "code",
      "source": [
        "# Create a 3x3 matrix with values ranging fro 0 to 8\n",
        "\n",
        "x = np.arange(0,9).reshape(3,3)\n",
        "x"
      ],
      "metadata": {
        "colab": {
          "base_uri": "https://localhost:8080/"
        },
        "id": "XcJZUxoNmQ5r",
        "outputId": "65e5b3ff-011b-4272-a9ac-4dd8fbdf720b"
      },
      "execution_count": null,
      "outputs": [
        {
          "output_type": "execute_result",
          "data": {
            "text/plain": [
              "array([[0, 1, 2],\n",
              "       [3, 4, 5],\n",
              "       [6, 7, 8]])"
            ]
          },
          "metadata": {},
          "execution_count": 22
        }
      ]
    },
    {
      "cell_type": "code",
      "source": [
        "# Create a vector with values ranging from 10 to 49 and then reverse the vector\n",
        "\n",
        "v = np.arange(10,49)\n",
        "print(v)\n",
        "print(np.flip(v))\n",
        "# print(v[::-1])\n",
        "# axis = 0 reverse rows\n",
        "# axis = 1 reverse columns"
      ],
      "metadata": {
        "colab": {
          "base_uri": "https://localhost:8080/"
        },
        "id": "CIcg-iIKmQ8N",
        "outputId": "bf1a540c-18ac-426d-da87-ec65e0098e06"
      },
      "execution_count": null,
      "outputs": [
        {
          "output_type": "stream",
          "name": "stdout",
          "text": [
            "[10 11 12 13 14 15 16 17 18 19 20 21 22 23 24 25 26 27 28 29 30 31 32 33\n",
            " 34 35 36 37 38 39 40 41 42 43 44 45 46 47 48]\n",
            "[48 47 46 45 44 43 42 41 40 39 38 37 36 35 34 33 32 31 30 29 28 27 26 25\n",
            " 24 23 22 21 20 19 18 17 16 15 14 13 12 11 10]\n"
          ]
        }
      ]
    },
    {
      "cell_type": "code",
      "source": [
        "# Find indices of non-zero elements\n",
        "\n",
        "a = [1,2,0,0,4,0]\n",
        "nonzeroind = np.nonzero(a)[0]\n",
        "print(nonzeroind)"
      ],
      "metadata": {
        "colab": {
          "base_uri": "https://localhost:8080/"
        },
        "id": "xWXxIBa_mRCG",
        "outputId": "98f724ab-2ad2-48b6-cb99-378525a77991"
      },
      "execution_count": null,
      "outputs": [
        {
          "output_type": "stream",
          "name": "stdout",
          "text": [
            "[0 1 4]\n"
          ]
        }
      ]
    },
    {
      "cell_type": "code",
      "source": [
        "# WAP that generates fibonacci sequence of n numbers using recursion\n",
        "\n",
        "def fib(n):\n",
        "  if n <=1:\n",
        "    return n\n",
        "  else:\n",
        "    return fib(n-1)+fib(n-2)\n",
        "n = int(input())\n",
        "print(\"Fibonacci sequence: \")\n",
        "for i in range(n):\n",
        "  print(fib(i), end = ' ')"
      ],
      "metadata": {
        "colab": {
          "base_uri": "https://localhost:8080/"
        },
        "id": "cVz3-p88mRFz",
        "outputId": "142988eb-34b8-45a3-a8b3-8d3d46c88884"
      },
      "execution_count": null,
      "outputs": [
        {
          "output_type": "stream",
          "name": "stdout",
          "text": [
            "5\n",
            "Fibonacci sequence: \n",
            "0 1 1 2 3 "
          ]
        }
      ]
    },
    {
      "cell_type": "code",
      "source": [
        "# Check whether a number is even or odd using lambda\n",
        "\n",
        "a = int(input())\n",
        "res = lambda x: \"Even\" if x%2 == 0 else \"Odd\"\n",
        "print(res(a))"
      ],
      "metadata": {
        "colab": {
          "base_uri": "https://localhost:8080/"
        },
        "id": "_EJr306cmRIl",
        "outputId": "9303e63e-85df-4347-9007-825c2156ed46"
      },
      "execution_count": null,
      "outputs": [
        {
          "output_type": "stream",
          "name": "stdout",
          "text": [
            "5\n",
            "Odd\n"
          ]
        }
      ]
    },
    {
      "cell_type": "code",
      "source": [],
      "metadata": {
        "id": "bFblfha9qcsT"
      },
      "execution_count": null,
      "outputs": []
    },
    {
      "cell_type": "code",
      "source": [],
      "metadata": {
        "id": "-9PlKXvvqe9t"
      },
      "execution_count": null,
      "outputs": []
    },
    {
      "cell_type": "code",
      "source": [],
      "metadata": {
        "id": "T6_f1crZqfBC"
      },
      "execution_count": null,
      "outputs": []
    },
    {
      "cell_type": "code",
      "source": [],
      "metadata": {
        "id": "kqOed1suqfEW"
      },
      "execution_count": null,
      "outputs": []
    },
    {
      "cell_type": "code",
      "source": [],
      "metadata": {
        "id": "xmMNwJDKqfJN"
      },
      "execution_count": null,
      "outputs": []
    },
    {
      "cell_type": "code",
      "source": [],
      "metadata": {
        "id": "N_SXEN-FqfOe"
      },
      "execution_count": null,
      "outputs": []
    },
    {
      "cell_type": "code",
      "source": [],
      "metadata": {
        "id": "5JxHZJk0qfTf"
      },
      "execution_count": null,
      "outputs": []
    }
  ]
}